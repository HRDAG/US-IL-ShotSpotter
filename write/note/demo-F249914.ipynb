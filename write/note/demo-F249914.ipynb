{
 "cells": [
  {
   "cell_type": "markdown",
   "id": "3b811ff6-2a7d-49f6-aab1-95b70dc69f63",
   "metadata": {},
   "source": [
    "# Research Goal\n",
    "\n",
    "> The reason I requested this data is to begin testing the SoundThinking claim that the majority of gunfire events in a city go unreported by humans.\n",
    ">\n",
    "> My goal is to compare ShotSpotter and 911 calls about gunfire by block to see if they are 1-1."
   ]
  },
  {
   "cell_type": "markdown",
   "id": "fde85edf-5ae4-41ab-a8d7-03ec706685e3",
   "metadata": {},
   "source": [
    "# FOIA request\n",
    "### Ref. No: **F249914-110424**\n",
    "[Link to FOIA portal](https://chicagoil.govqa.us/WEBAPP/_rs/(S(bxbpx2fwoohqvcdmh3nl31bl))/IssueSearch.aspx?sSessionID=)\n",
    "- You're supposed to be able to search by Ref. No without signing in, but I tried a couple times and it kept taking me to a sign-in page.\n",
    "- After a couple minutes it processed the search, but I tried several variations of the Ref. No and none returned any records.\n",
    "\n",
    "### Contents of request & response\n",
    ">Dear Bailey Passmore:\n",
    ">\n",
    ">On behalf of the Office of Emergency Management and Communications (OEMC), I am responding to your Freedom of Information (FOIA) request that our office received on November 04, 2024, wherein you requested the following information:\n",
    ">\n",
    ">\"This is a request for public records under the Illinois Freedom of Information Act. Please make available for my inspection the following public records in the department’s possession, custody or control.\n",
    ">\n",
    ">I would like a copy of the database including all records of 911 calls, requests for service, and emergency events dispatched through OEMC. Specifically, I am interested in records between January 1, 2018 to present and involving a report of gunfire, such as \"SHOTSPOTTER\", \"SHOTS FIRED\", \"PERSON SHOT\", etc.\n",
    ">\n",
    ">Please include the following fields:\n",
    ">- call or event ID field\n",
    ">- date of call or event\n",
    ">- date of dispatch\n",
    ">- date cleared\n",
    ">- date closed\n",
    ">- location of reported emergency (at least a block level address)\n",
    ">- district of reported emergency\n",
    ">- priority code assigned\n",
    ">- initial event type\n",
    ">- final event type\n",
    ">\n",
    ">If possible, I would like the records to be made available as an Excel file. If the data must be separated into separate files or sheets due to the number of records, that's fine.\"\n",
    ">\n",
    ">In response to your request, the OEMC is providing you with the redacted 9-1-1 report. Be advised, residential addresses have been redacted from the attached records pursuant to 7(1)(b) of FOIA, which provides that public bodies may redact information that is considered private.  5 ILCS 2(c-5) of FOIA defines private information as follows:\n",
    ">\n",
    ">\"Private information\" means unique identifiers, including a person's social security number, driver's license number, employee identification number, biometric identifiers, personal financial information, passwords or other access codes, medical records, home or personal telephone numbers and email addresses.  Private information also includes home address and personal license plates, except as otherwise provided by law or when compiled without possibility of attribution to any person.\n",
    ">\n",
    ">Personal information contained within public records, the disclosure of which would constitute a clearly unwarranted invasion of personal privacy, unless the disclosure is consented to in writing by the individual subjects of the information.\n",
    ">\"Unwarranted invasion of personal privacy\" means the disclosure of information that is highly personal or objectionable to a reasonable person and in which the subject's right to privacy outweighs any legitimate public interest in obtaining the information.\n",
    ">\n",
    ">To the extent a portion of your FOIA request has been denied, you have a right of review by the Illinois Attorney General's Public Access Counselor who can be contacted at 500 S. Second St., Springfield, IL 62706 or by telephone at (877)-299-FOIA.\n",
    ">\n",
    ">Email: public.access@ilag.gov.\n",
    ">\n",
    ">You may also seek judicial review of a denial under 5 ILCS 140/11 of FOIA.\n",
    ">\n",
    ">Sincerely,\n",
    ">\n",
    ">M. Mason - OEMC FOIA\n",
    ">Freedom of Information Officer\n",
    ">Office of Emergency Management & Communications\n",
    ">1411 W Madison\n",
    ">Chicago IL 60607\n",
    ">312-746-9403"
   ]
  },
  {
   "cell_type": "markdown",
   "id": "83140100-2e24-4b08-a0ca-7fbff5d9a416",
   "metadata": {},
   "source": [
    "# Exploring the responsive records\n",
    "### Initial Notes\n",
    "\n",
    "- [x] years 2018 and 2019 are not included, and 2020 records only cover November, December\n",
    "- [x] There is no appearance of \"SHOT SPOTTER\" (how it appears in the old data) in the new data\n",
    "\n",
    "### Actions taken\n",
    "- [x] I responded to the email notifying me about the responsive records and asked about:\n",
    "    - [x] absence of 2018, 2019 records (noticed partial 2020 records later)\n",
    "    - [x] how to identify ShotSpotter events in the data\n",
    "- [x] Then I merged the new data with the older OEMC data and noticed that the `shotspotter` indicator is False for 100% of them. It appears these records have been intentionally excluded from the responsive records, although my request clearly specifies their inclusion.\n",
    "    - [ ] I have not followed up with CPD/OEMC yet to highlight this absence, I'll wait a couple days for their response about the excluded years and classification of ShotSpotter. Additionally, the absence of most of 2020 needs to be addressed.\n",
    "\n",
    "### Initial Findings\n",
    "- The responsive records fail to address the FOIA request in two ways:\n",
    "    1. Records are missing for years 2018, 2019, and most of 2020\n",
    "        - \"I am interested in records between January 1, 2018 to present\" in request\n",
    "    3. Records are missing for gunfire reports initiated by ShotSpotter technology.\n",
    "        - \"I am interested in records... involving a report of gunfire, such as “SHOTSPOTTER”, “SHOTS FIRED”, “PERSON SHOT”, etc.\""
   ]
  },
  {
   "cell_type": "markdown",
   "id": "72a622b6-57f3-4020-88ce-e16c30802a82",
   "metadata": {},
   "source": [
    "# Processing new OEMC data\n",
    "\n",
    "Below is a sample copied from the OEMC_MP data processing pipeline that is used in a script to validate the data before processing begins.\n",
    "\n",
    "```\n",
    "call_date:\n",
    "    description: 'The date and time of the 911 call or the date an analyst relayed a suspected crime identified by technology such as Shot Spotter or HunchLab.'\n",
    "    sample value: 16-SEP-2021 01:05\n",
    "    percent unique: 16.8% (2,039,809 of 12,159,582)\n",
    "    percent with data: 100.0% (12,159,582 of 12,159,582)\n",
    "```"
   ]
  },
  {
   "cell_type": "markdown",
   "id": "0f1e9720-7056-47f1-85c4-1abc72ca79dc",
   "metadata": {},
   "source": [
    "# Setup"
   ]
  },
  {
   "cell_type": "code",
   "execution_count": 1,
   "id": "416b19e6-7a97-473b-b253-b48ac77f79a7",
   "metadata": {},
   "outputs": [],
   "source": [
    "# dependencies\n",
    "import re\n",
    "import pandas as pd"
   ]
  },
  {
   "cell_type": "code",
   "execution_count": 2,
   "id": "d01feb88-03c3-4f3d-9351-6a23bd9483dd",
   "metadata": {},
   "outputs": [],
   "source": [
    "# support methods\n",
    "def format_datetime(x):\n",
    "    if pd.isna(x): return None\n",
    "    out = pd.to_datetime(x, format=\"%m/%d/%Y %H:%M:%S\")\n",
    "    return out"
   ]
  },
  {
   "cell_type": "code",
   "execution_count": 3,
   "id": "1c10320e-ca25-4c68-97b7-c28db097f4f1",
   "metadata": {},
   "outputs": [],
   "source": [
    "# main\n",
    "raw = pd.read_csv(\"../frozen/cpd_foia249914-fixed.csv\", header=0)\n",
    "raw.EventNumber = raw.EventNumber.astype(str)\n",
    "rules = {\n",
    "    'EventNumber': 'event_no',\n",
    "    'EntryDate': 'entry_date',\n",
    "    'DispatchDate': 'disp_date',\n",
    "    'ClearDate': 'clear_date',\n",
    "    'ClosedDate': 'close_date',\n",
    "    'InitialPriority': 'init_priority',\n",
    "    'FinPriority': 'fin_priority',\n",
    "    'InitType': 'init_type',\n",
    "    'FinalType': 'fin_type',\n",
    "    'FinTypeDescription': 'fin_type_desc',\n",
    "    'District': 'district_nov24',\n",
    "    'Location': 'location_ofcall', # not sure about that\n",
    "    'ServiceLocation': 'location',\n",
    "    'XCoord': 'location_x',\n",
    "    'YCoord': 'location_y',\n",
    "}\n",
    "oemc_gunfire = raw.rename(columns=rules)\n",
    "\n",
    "datecols = [col for col in oemc_gunfire.columns if 'date' in col.lower()]\n",
    "for col in datecols:\n",
    "    oemc_gunfire[col] = oemc_gunfire[col].apply(lambda x: x.replace('.', \":\") if pd.notna(x) else None)\n",
    "    oemc_gunfire[col] = oemc_gunfire[col].apply(format_datetime)"
   ]
  },
  {
   "cell_type": "code",
   "execution_count": 4,
   "id": "6b0140a2-966b-4e11-8e10-a37154268924",
   "metadata": {},
   "outputs": [
    {
     "name": "stdout",
     "output_type": "stream",
     "text": [
      "<class 'pandas.core.frame.DataFrame'>\n",
      "RangeIndex: 77340 entries, 0 to 77339\n",
      "Data columns (total 4 columns):\n",
      " #   Column      Non-Null Count  Dtype         \n",
      "---  ------      --------------  -----         \n",
      " 0   entry_date  77340 non-null  datetime64[ns]\n",
      " 1   disp_date   76850 non-null  datetime64[ns]\n",
      " 2   clear_date  76829 non-null  datetime64[ns]\n",
      " 3   close_date  77340 non-null  datetime64[ns]\n",
      "dtypes: datetime64[ns](4)\n",
      "memory usage: 2.4 MB\n"
     ]
    }
   ],
   "source": [
    "oemc_gunfire[datecols].info()"
   ]
  },
  {
   "cell_type": "markdown",
   "id": "fcf0883d-6ae4-4018-a69b-29342e0abe48",
   "metadata": {},
   "source": [
    "# Preview of new data"
   ]
  },
  {
   "cell_type": "code",
   "execution_count": 5,
   "id": "a84f0f43-377b-4742-af69-931edaad66f6",
   "metadata": {},
   "outputs": [
    {
     "data": {
      "text/plain": [
       "77340"
      ]
     },
     "execution_count": 5,
     "metadata": {},
     "output_type": "execute_result"
    }
   ],
   "source": [
    "oemc_gunfire.shape[0]"
   ]
  },
  {
   "cell_type": "code",
   "execution_count": 6,
   "id": "5ddae6f9-a22a-4f0e-b852-5fe6be3497dc",
   "metadata": {},
   "outputs": [
    {
     "data": {
      "text/html": [
       "<div>\n",
       "<style scoped>\n",
       "    .dataframe tbody tr th:only-of-type {\n",
       "        vertical-align: middle;\n",
       "    }\n",
       "\n",
       "    .dataframe tbody tr th {\n",
       "        vertical-align: top;\n",
       "    }\n",
       "\n",
       "    .dataframe thead th {\n",
       "        text-align: right;\n",
       "    }\n",
       "</style>\n",
       "<table border=\"1\" class=\"dataframe\">\n",
       "  <thead>\n",
       "    <tr style=\"text-align: right;\">\n",
       "      <th></th>\n",
       "      <th>40117</th>\n",
       "    </tr>\n",
       "  </thead>\n",
       "  <tbody>\n",
       "    <tr>\n",
       "      <th>event_no</th>\n",
       "      <td>2225315684</td>\n",
       "    </tr>\n",
       "    <tr>\n",
       "      <th>entry_date</th>\n",
       "      <td>2022-09-10 23:00:21</td>\n",
       "    </tr>\n",
       "    <tr>\n",
       "      <th>disp_date</th>\n",
       "      <td>2022-09-10 23:01:08</td>\n",
       "    </tr>\n",
       "    <tr>\n",
       "      <th>clear_date</th>\n",
       "      <td>2022-09-10 23:45:10</td>\n",
       "    </tr>\n",
       "    <tr>\n",
       "      <th>close_date</th>\n",
       "      <td>2022-09-10 23:45:10</td>\n",
       "    </tr>\n",
       "    <tr>\n",
       "      <th>location_ofcall</th>\n",
       "      <td>58XX  N FAIRFIELD AV</td>\n",
       "    </tr>\n",
       "    <tr>\n",
       "      <th>location</th>\n",
       "      <td>58XX  N FAIRFIELD AV</td>\n",
       "    </tr>\n",
       "    <tr>\n",
       "      <th>location_x</th>\n",
       "      <td>41.987</td>\n",
       "    </tr>\n",
       "    <tr>\n",
       "      <th>location_y</th>\n",
       "      <td>-87.698</td>\n",
       "    </tr>\n",
       "    <tr>\n",
       "      <th>district_nov24</th>\n",
       "      <td>20.0</td>\n",
       "    </tr>\n",
       "    <tr>\n",
       "      <th>init_priority</th>\n",
       "      <td>1A</td>\n",
       "    </tr>\n",
       "    <tr>\n",
       "      <th>fin_priority</th>\n",
       "      <td>1A</td>\n",
       "    </tr>\n",
       "    <tr>\n",
       "      <th>init_type</th>\n",
       "      <td>SHOTSF</td>\n",
       "    </tr>\n",
       "    <tr>\n",
       "      <th>fin_type</th>\n",
       "      <td>SHOTSF</td>\n",
       "    </tr>\n",
       "    <tr>\n",
       "      <th>fin_type_desc</th>\n",
       "      <td>SHOTS FIRED</td>\n",
       "    </tr>\n",
       "  </tbody>\n",
       "</table>\n",
       "</div>"
      ],
      "text/plain": [
       "                                40117\n",
       "event_no                   2225315684\n",
       "entry_date        2022-09-10 23:00:21\n",
       "disp_date         2022-09-10 23:01:08\n",
       "clear_date        2022-09-10 23:45:10\n",
       "close_date        2022-09-10 23:45:10\n",
       "location_ofcall  58XX  N FAIRFIELD AV\n",
       "location         58XX  N FAIRFIELD AV\n",
       "location_x                     41.987\n",
       "location_y                    -87.698\n",
       "district_nov24                   20.0\n",
       "init_priority                      1A\n",
       "fin_priority                       1A\n",
       "init_type                      SHOTSF\n",
       "fin_type                       SHOTSF\n",
       "fin_type_desc             SHOTS FIRED"
      ]
     },
     "execution_count": 6,
     "metadata": {},
     "output_type": "execute_result"
    }
   ],
   "source": [
    "oemc_gunfire.sample().T"
   ]
  },
  {
   "cell_type": "code",
   "execution_count": 7,
   "id": "338a98b7-0c35-4723-b192-53954c8b9a2b",
   "metadata": {},
   "outputs": [
    {
     "name": "stdout",
     "output_type": "stream",
     "text": [
      "# OEMC data from recent request for gunfire incidents (November 2024):\n",
      "- 77,340 records total.\n",
      "- 0 records originating as a SHOTSPOTTER report.\n",
      "- Records cover a period of 4.0 years between 2020-11-01 and 2024-11-05.\n"
     ]
    }
   ],
   "source": [
    "print(\"# OEMC data from recent request for gunfire incidents (November 2024):\")\n",
    "print(f\"- {oemc_gunfire.shape[0]:,} records total.\")\n",
    "print(f\"- {(oemc_gunfire.init_type == 'SHOT SPOTTER').sum():,} records originating as a SHOTSPOTTER report.\")\n",
    "print(f\"- Records cover a period of \\\n",
    "{round((oemc_gunfire.entry_date.max() - oemc_gunfire.entry_date.min()).days / 365, 1)} years \\\n",
    "between {oemc_gunfire.entry_date.min().date()} and {oemc_gunfire.entry_date.max().date()}.\")"
   ]
  },
  {
   "cell_type": "markdown",
   "id": "06fdd2bd-b9dc-4cf0-912d-d18523ecaecc",
   "metadata": {},
   "source": [
    "# Looking at timeline of new data\n",
    "- I asked for January 1, 2018 to present"
   ]
  },
  {
   "cell_type": "code",
   "execution_count": 8,
   "id": "e2fc521c-1bda-4e81-b03d-b42dbfa35599",
   "metadata": {},
   "outputs": [],
   "source": [
    "oemc_gunfire['year_entered'] = oemc_gunfire.entry_date.dt.year"
   ]
  },
  {
   "cell_type": "code",
   "execution_count": 9,
   "id": "6466adc4-daed-4b5d-a902-b8d6a152fadd",
   "metadata": {},
   "outputs": [
    {
     "data": {
      "text/plain": [
       "year_entered\n",
       "2020     3073\n",
       "2021    22684\n",
       "2022    19960\n",
       "2023    16401\n",
       "2024    15222\n",
       "Name: count, dtype: int64"
      ]
     },
     "execution_count": 9,
     "metadata": {},
     "output_type": "execute_result"
    }
   ],
   "source": [
    "oemc_gunfire.year_entered.value_counts().sort_index()"
   ]
  },
  {
   "cell_type": "markdown",
   "id": "83a41b18-6be5-4f37-a57d-d9e3d99d7303",
   "metadata": {},
   "source": [
    "\n",
    "**Notes from BP:**\n",
    "- 2018 and 2019 are not in the summary as expected"
   ]
  },
  {
   "cell_type": "markdown",
   "id": "ae39d27a-54ff-4a7e-94d1-2af9cae12f6d",
   "metadata": {},
   "source": [
    "# Looking for 'SHOT SPOTTER' in new data"
   ]
  },
  {
   "cell_type": "code",
   "execution_count": 10,
   "id": "84d7e165-ccbd-42fa-86b2-7b01472ef3be",
   "metadata": {},
   "outputs": [
    {
     "data": {
      "text/plain": [
       "np.int64(0)"
      ]
     },
     "execution_count": 10,
     "metadata": {},
     "output_type": "execute_result"
    }
   ],
   "source": [
    "(oemc_gunfire.init_type == 'SHOT SPOTTER').sum()"
   ]
  },
  {
   "cell_type": "code",
   "execution_count": 11,
   "id": "d55593f7-318b-496d-95ec-e1b1b7ac27f7",
   "metadata": {},
   "outputs": [
    {
     "data": {
      "text/plain": [
       "np.int64(0)"
      ]
     },
     "execution_count": 11,
     "metadata": {},
     "output_type": "execute_result"
    }
   ],
   "source": [
    "(oemc_gunfire.fin_type == 'SHOT SPOTTER').sum()"
   ]
  },
  {
   "cell_type": "code",
   "execution_count": 12,
   "id": "f0193047-b3fd-4e4c-a39f-defdb226d639",
   "metadata": {},
   "outputs": [
    {
     "data": {
      "text/plain": [
       "np.int64(0)"
      ]
     },
     "execution_count": 12,
     "metadata": {},
     "output_type": "execute_result"
    }
   ],
   "source": [
    "(oemc_gunfire.fin_type_desc == 'SHOT SPOTTER').sum()"
   ]
  },
  {
   "cell_type": "code",
   "execution_count": 13,
   "id": "44035380-00ec-471d-b3fb-13c833c35fc1",
   "metadata": {},
   "outputs": [
    {
     "data": {
      "text/plain": [
       "np.int64(0)"
      ]
     },
     "execution_count": 13,
     "metadata": {},
     "output_type": "execute_result"
    }
   ],
   "source": [
    "(oemc_gunfire.init_type.str.contains('spot', flags=re.I)).sum()"
   ]
  },
  {
   "cell_type": "code",
   "execution_count": 14,
   "id": "b7f1b8ee-7467-4c82-aebc-d2b668f22615",
   "metadata": {},
   "outputs": [
    {
     "data": {
      "text/plain": [
       "np.int64(0)"
      ]
     },
     "execution_count": 14,
     "metadata": {},
     "output_type": "execute_result"
    }
   ],
   "source": [
    "(oemc_gunfire.fin_type.str.contains('spot', flags=re.I)).sum()"
   ]
  },
  {
   "cell_type": "code",
   "execution_count": 15,
   "id": "cf138a18-59a7-457a-97ce-74cf202a2636",
   "metadata": {},
   "outputs": [
    {
     "data": {
      "text/plain": [
       "np.int64(0)"
      ]
     },
     "execution_count": 15,
     "metadata": {},
     "output_type": "execute_result"
    }
   ],
   "source": [
    "(oemc_gunfire.fin_type_desc.str.contains('spot', flags=re.I)).sum()"
   ]
  },
  {
   "cell_type": "code",
   "execution_count": 16,
   "id": "8364868b-5696-4962-882e-bd2a0636fe7a",
   "metadata": {},
   "outputs": [
    {
     "data": {
      "text/plain": [
       "init_type  fin_type  fin_type_desc\n",
       "SHOTSF     SHOTSF    SHOTS FIRED      68134\n",
       "PERSHO     PERSHO    PERSON SHOT       8288\n",
       "PERGUN     SHOTSF    SHOTS FIRED        196\n",
       "SHOTSF     PERSHO    PERSON SHOT        162\n",
       "PERSHO     SHOTSF    SHOTS FIRED         58\n",
       "                                      ...  \n",
       "MARINE     SHOTSF    SHOTS FIRED          1\n",
       "NFY        PERSHO    PERSON SHOT          1\n",
       "OEM+B      SHOTSF    SHOTS FIRED          1\n",
       "OVERDO     PERSHO    PERSON SHOT          1\n",
       "VICEIP     SHOTSF    SHOTS FIRED          1\n",
       "Name: count, Length: 104, dtype: int64"
      ]
     },
     "execution_count": 16,
     "metadata": {},
     "output_type": "execute_result"
    }
   ],
   "source": [
    "oemc_gunfire[['init_type', 'fin_type', 'fin_type_desc']].value_counts()"
   ]
  },
  {
   "cell_type": "code",
   "execution_count": 17,
   "id": "c20ca332-7375-426c-8092-320cfb4e6083",
   "metadata": {},
   "outputs": [
    {
     "data": {
      "text/plain": [
       "init_type\n",
       "SHOTSF    68297\n",
       "PERSHO     8346\n",
       "PERGUN      226\n",
       "CHECWB       42\n",
       "EMS          31\n",
       "          ...  \n",
       "CSAJO         1\n",
       "BATRT         1\n",
       "EXPLOS        1\n",
       "CALL          1\n",
       "PERWTD        1\n",
       "Name: count, Length: 75, dtype: int64"
      ]
     },
     "execution_count": 17,
     "metadata": {},
     "output_type": "execute_result"
    }
   ],
   "source": [
    "oemc_gunfire.init_type.value_counts()"
   ]
  },
  {
   "cell_type": "code",
   "execution_count": 18,
   "id": "4ac42fd4-6e9f-4dce-8721-014d3860e8b3",
   "metadata": {},
   "outputs": [
    {
     "data": {
      "text/plain": [
       "fin_type\n",
       "SHOTSF    68704\n",
       "PERSHO     8628\n",
       "SHOTS         8\n",
       "Name: count, dtype: int64"
      ]
     },
     "execution_count": 18,
     "metadata": {},
     "output_type": "execute_result"
    }
   ],
   "source": [
    "oemc_gunfire.fin_type.value_counts()"
   ]
  },
  {
   "cell_type": "code",
   "execution_count": 19,
   "id": "2bd7bfcd-5bfb-45de-8079-0c133dd2a7ae",
   "metadata": {},
   "outputs": [
    {
     "data": {
      "text/plain": [
       "fin_type_desc\n",
       "SHOTS FIRED         68704\n",
       "PERSON SHOT          8628\n",
       "SHOTS FIRED (OV)        8\n",
       "Name: count, dtype: int64"
      ]
     },
     "execution_count": 19,
     "metadata": {},
     "output_type": "execute_result"
    }
   ],
   "source": [
    "oemc_gunfire.fin_type_desc.value_counts()"
   ]
  },
  {
   "cell_type": "markdown",
   "id": "f7d9cb3d-c601-4919-b596-3d11aa06190c",
   "metadata": {},
   "source": [
    "\n",
    "**Notes from BP:**\n",
    "- I'm not seeing any records for ShotSpotter as expected"
   ]
  },
  {
   "cell_type": "markdown",
   "id": "b22f1e4f-e52a-4566-839c-4f50bc3413b6",
   "metadata": {},
   "source": [
    "# Recovering \"SHOT SPOTTER\" using records in both old and new data\n",
    "\n",
    "- This new OEMC data appears to classify both 911 calls to report gunfire and ShotSpotter events in the same way. (At least as far as the Initial and Final event types are concerned, which is where this keyphrase appears in the OEMC_MP data)\n",
    "\n",
    "So, let's take the earlier data and connect it to this data."
   ]
  },
  {
   "cell_type": "markdown",
   "id": "e923b782-d42a-43f6-ae55-d8d6caa6adb6",
   "metadata": {},
   "source": [
    "### OEMC data from MP investigation"
   ]
  },
  {
   "cell_type": "code",
   "execution_count": 20,
   "id": "add6a72d-1633-44c8-a714-cea3a89e67a3",
   "metadata": {},
   "outputs": [],
   "source": [
    "full_oemc_mp = pd.read_parquet(\"../../../OEMC_MP/export/output/oemc_dispatch.parquet\")\n",
    "keep = [\n",
    "    'event_no',\n",
    "    'district',\n",
    "    'call_date',\n",
    "    'disp_date',\n",
    "    'on_date',\n",
    "    'clear_date',\n",
    "    'close_date',\n",
    "    'init_priority',\n",
    "    'init_type',\n",
    "    'fin_type',\n",
    "    'dispatch_reported',\n",
    "    'numeric_district',\n",
    "    'day_called',\n",
    "    'year_called',\n",
    "    'year_dispatched',\n",
    "    'time_to_arrive',\n",
    "    'tta_group',\n",
    "    'shotspotter',\n",
    "    'gunshot',\n",
    "]\n",
    "oemc_mp = full_oemc_mp[keep].copy()"
   ]
  },
  {
   "cell_type": "code",
   "execution_count": 21,
   "id": "6e9d8d9c-98e3-4696-b55c-6c73d485afe9",
   "metadata": {},
   "outputs": [
    {
     "name": "stdout",
     "output_type": "stream",
     "text": [
      "# OEMC data from missing persons investigation (December 2021):\n",
      "- 12,159,582 records total.\n",
      "- 95,242 records originating as a SHOTSPOTTER report.\n",
      "- Records cover a period of 4.0 years between 2018-01-01 and 2021-12-31.\n"
     ]
    }
   ],
   "source": [
    "print(\"# OEMC data from missing persons investigation (December 2021):\")\n",
    "print(f\"- {full_oemc_mp.shape[0]:,} records total.\")\n",
    "print(f\"- {full_oemc_mp.shotspotter.sum():,} records originating as a SHOTSPOTTER report.\")\n",
    "print(f\"- Records cover a period of \\\n",
    "{round((oemc_mp.call_date.max() - oemc_mp.call_date.min()).days / 365, 1)} years \\\n",
    "between {full_oemc_mp.call_date.min().date()} and {full_oemc_mp.call_date.max().date()}.\")"
   ]
  },
  {
   "cell_type": "markdown",
   "id": "cf8dfc63-e0e0-4f13-a8e3-ff37e3f1aefa",
   "metadata": {},
   "source": [
    "### OEMC data in both old and new sets"
   ]
  },
  {
   "cell_type": "code",
   "execution_count": 22,
   "id": "abb4911b-16a4-43c2-b194-0c1dd1064a84",
   "metadata": {},
   "outputs": [],
   "source": [
    "both = pd.merge(oemc_gunfire, oemc_mp,\n",
    "                on='event_no',\n",
    "                suffixes=('_nov24', '_dec21'),\n",
    "                how='inner')"
   ]
  },
  {
   "cell_type": "code",
   "execution_count": 23,
   "id": "21615bf0-3b3a-4b38-ac3d-91f5c46b1c2f",
   "metadata": {},
   "outputs": [
    {
     "name": "stdout",
     "output_type": "stream",
     "text": [
      "# OEMC data in both dec21 and nov24 datasets:\n",
      "- 25,604 records total.\n",
      "- 0 records originating as a SHOTSPOTTER report.\n",
      "- Records cover a period of 1.2 years between 2020-11-01 and 2021-12-31.\n"
     ]
    }
   ],
   "source": [
    "print(\"# OEMC data in both dec21 and nov24 datasets:\")\n",
    "print(f\"- {both.shape[0]:,} records total.\")\n",
    "print(f\"- {both.shotspotter.sum():,} records originating as a SHOTSPOTTER report.\")\n",
    "print(f\"- Records cover a period of \\\n",
    "{round((both.call_date.max() - both.call_date.min()).days / 365, 1)} years \\\n",
    "between {both.call_date.min().date()} and {both.call_date.max().date()}.\")"
   ]
  },
  {
   "cell_type": "code",
   "execution_count": 24,
   "id": "01742f95-3792-4d3e-8189-61a3e8009fa4",
   "metadata": {},
   "outputs": [
    {
     "data": {
      "text/html": [
       "<div>\n",
       "<style scoped>\n",
       "    .dataframe tbody tr th:only-of-type {\n",
       "        vertical-align: middle;\n",
       "    }\n",
       "\n",
       "    .dataframe tbody tr th {\n",
       "        vertical-align: top;\n",
       "    }\n",
       "\n",
       "    .dataframe thead th {\n",
       "        text-align: right;\n",
       "    }\n",
       "</style>\n",
       "<table border=\"1\" class=\"dataframe\">\n",
       "  <thead>\n",
       "    <tr style=\"text-align: right;\">\n",
       "      <th></th>\n",
       "      <th>22999</th>\n",
       "    </tr>\n",
       "  </thead>\n",
       "  <tbody>\n",
       "    <tr>\n",
       "      <th>event_no</th>\n",
       "      <td>2131709984</td>\n",
       "    </tr>\n",
       "    <tr>\n",
       "      <th>entry_date</th>\n",
       "      <td>2021-11-13 15:55:59</td>\n",
       "    </tr>\n",
       "    <tr>\n",
       "      <th>disp_date_nov24</th>\n",
       "      <td>2021-11-13 15:57:04</td>\n",
       "    </tr>\n",
       "    <tr>\n",
       "      <th>clear_date_nov24</th>\n",
       "      <td>2021-11-13 16:43:11</td>\n",
       "    </tr>\n",
       "    <tr>\n",
       "      <th>close_date_nov24</th>\n",
       "      <td>2021-11-13 16:43:11</td>\n",
       "    </tr>\n",
       "    <tr>\n",
       "      <th>location_ofcall</th>\n",
       "      <td>48XX  W BELMONT AV /32XX  N CICERO AV</td>\n",
       "    </tr>\n",
       "    <tr>\n",
       "      <th>location</th>\n",
       "      <td>48XX  W BELMONT AV /32XX  N CICERO AV</td>\n",
       "    </tr>\n",
       "    <tr>\n",
       "      <th>location_x</th>\n",
       "      <td>41.938</td>\n",
       "    </tr>\n",
       "    <tr>\n",
       "      <th>location_y</th>\n",
       "      <td>-87.746</td>\n",
       "    </tr>\n",
       "    <tr>\n",
       "      <th>district_nov24</th>\n",
       "      <td>16.0</td>\n",
       "    </tr>\n",
       "    <tr>\n",
       "      <th>init_priority_nov24</th>\n",
       "      <td>1A</td>\n",
       "    </tr>\n",
       "    <tr>\n",
       "      <th>fin_priority</th>\n",
       "      <td>1A</td>\n",
       "    </tr>\n",
       "    <tr>\n",
       "      <th>init_type_nov24</th>\n",
       "      <td>SHOTSF</td>\n",
       "    </tr>\n",
       "    <tr>\n",
       "      <th>fin_type_nov24</th>\n",
       "      <td>SHOTSF</td>\n",
       "    </tr>\n",
       "    <tr>\n",
       "      <th>fin_type_desc</th>\n",
       "      <td>SHOTS FIRED</td>\n",
       "    </tr>\n",
       "    <tr>\n",
       "      <th>year_entered</th>\n",
       "      <td>2021</td>\n",
       "    </tr>\n",
       "    <tr>\n",
       "      <th>district</th>\n",
       "      <td>016</td>\n",
       "    </tr>\n",
       "    <tr>\n",
       "      <th>call_date</th>\n",
       "      <td>2021-11-13 15:55:00</td>\n",
       "    </tr>\n",
       "    <tr>\n",
       "      <th>disp_date_dec21</th>\n",
       "      <td>2021-11-13 15:57:00</td>\n",
       "    </tr>\n",
       "    <tr>\n",
       "      <th>on_date</th>\n",
       "      <td>NaT</td>\n",
       "    </tr>\n",
       "    <tr>\n",
       "      <th>clear_date_dec21</th>\n",
       "      <td>2021-11-13 16:43:00</td>\n",
       "    </tr>\n",
       "    <tr>\n",
       "      <th>close_date_dec21</th>\n",
       "      <td>2021-11-13 16:43:00</td>\n",
       "    </tr>\n",
       "    <tr>\n",
       "      <th>init_priority_dec21</th>\n",
       "      <td>1A</td>\n",
       "    </tr>\n",
       "    <tr>\n",
       "      <th>init_type_dec21</th>\n",
       "      <td>SHOTS FIRED</td>\n",
       "    </tr>\n",
       "    <tr>\n",
       "      <th>fin_type_dec21</th>\n",
       "      <td>SHOTS FIRED</td>\n",
       "    </tr>\n",
       "    <tr>\n",
       "      <th>dispatch_reported</th>\n",
       "      <td>True</td>\n",
       "    </tr>\n",
       "    <tr>\n",
       "      <th>numeric_district</th>\n",
       "      <td>16.0</td>\n",
       "    </tr>\n",
       "    <tr>\n",
       "      <th>day_called</th>\n",
       "      <td>2021-11-13</td>\n",
       "    </tr>\n",
       "    <tr>\n",
       "      <th>year_called</th>\n",
       "      <td>2021</td>\n",
       "    </tr>\n",
       "    <tr>\n",
       "      <th>year_dispatched</th>\n",
       "      <td>2021.0</td>\n",
       "    </tr>\n",
       "    <tr>\n",
       "      <th>time_to_arrive</th>\n",
       "      <td>0 days 00:02:00</td>\n",
       "    </tr>\n",
       "    <tr>\n",
       "      <th>tta_group</th>\n",
       "      <td>Dispatch under 5 minutes</td>\n",
       "    </tr>\n",
       "    <tr>\n",
       "      <th>shotspotter</th>\n",
       "      <td>False</td>\n",
       "    </tr>\n",
       "    <tr>\n",
       "      <th>gunshot</th>\n",
       "      <td>True</td>\n",
       "    </tr>\n",
       "  </tbody>\n",
       "</table>\n",
       "</div>"
      ],
      "text/plain": [
       "                                                     22999\n",
       "event_no                                        2131709984\n",
       "entry_date                             2021-11-13 15:55:59\n",
       "disp_date_nov24                        2021-11-13 15:57:04\n",
       "clear_date_nov24                       2021-11-13 16:43:11\n",
       "close_date_nov24                       2021-11-13 16:43:11\n",
       "location_ofcall      48XX  W BELMONT AV /32XX  N CICERO AV\n",
       "location             48XX  W BELMONT AV /32XX  N CICERO AV\n",
       "location_x                                          41.938\n",
       "location_y                                         -87.746\n",
       "district_nov24                                        16.0\n",
       "init_priority_nov24                                     1A\n",
       "fin_priority                                            1A\n",
       "init_type_nov24                                     SHOTSF\n",
       "fin_type_nov24                                      SHOTSF\n",
       "fin_type_desc                                  SHOTS FIRED\n",
       "year_entered                                          2021\n",
       "district                                               016\n",
       "call_date                              2021-11-13 15:55:00\n",
       "disp_date_dec21                        2021-11-13 15:57:00\n",
       "on_date                                                NaT\n",
       "clear_date_dec21                       2021-11-13 16:43:00\n",
       "close_date_dec21                       2021-11-13 16:43:00\n",
       "init_priority_dec21                                     1A\n",
       "init_type_dec21                                SHOTS FIRED\n",
       "fin_type_dec21                                 SHOTS FIRED\n",
       "dispatch_reported                                     True\n",
       "numeric_district                                      16.0\n",
       "day_called                                      2021-11-13\n",
       "year_called                                           2021\n",
       "year_dispatched                                     2021.0\n",
       "time_to_arrive                             0 days 00:02:00\n",
       "tta_group                         Dispatch under 5 minutes\n",
       "shotspotter                                          False\n",
       "gunshot                                               True"
      ]
     },
     "execution_count": 24,
     "metadata": {},
     "output_type": "execute_result"
    }
   ],
   "source": [
    "both.sample().T"
   ]
  },
  {
   "cell_type": "code",
   "execution_count": 25,
   "id": "001579f1-7bce-469d-bfcf-f94a70ae23b9",
   "metadata": {},
   "outputs": [
    {
     "data": {
      "text/plain": [
       "shotspotter\n",
       "False    25604\n",
       "Name: count, dtype: int64"
      ]
     },
     "execution_count": 25,
     "metadata": {},
     "output_type": "execute_result"
    }
   ],
   "source": [
    "assert not both.shotspotter.isna().any()\n",
    "both.shotspotter.value_counts()"
   ]
  },
  {
   "cell_type": "code",
   "execution_count": 26,
   "id": "deb4fb08-5b7d-4835-bda1-af476f50c7f1",
   "metadata": {},
   "outputs": [
    {
     "data": {
      "text/plain": [
       "init_type_dec21            fin_type_dec21  init_type_nov24  fin_type_nov24\n",
       "SHOTS FIRED                SHOTS FIRED     SHOTSF           SHOTSF            22691\n",
       "PERSON SHOT                PERSON SHOT     PERSHO           PERSHO             2642\n",
       "SHOTS FIRED                PERSON SHOT     SHOTSF           PERSHO               53\n",
       "PERSON WITH A GUN          SHOTS FIRED     PERGUN           SHOTSF               47\n",
       "PERSON SHOT                SHOTS FIRED     PERSHO           SHOTSF               20\n",
       "                                                                              ...  \n",
       "INFO. FOR THE POLICE       PERSON SHOT     INFOPO           PERSHO                1\n",
       "INJURED PERSON REPORT      PERSON SHOT     INJRT            PERSHO                1\n",
       "MARINE DISTRESS            SHOTS FIRED     MARINE           SHOTSF                1\n",
       "MENTAL HEALTH DISTURBANCE  PERSON SHOT     DISTME           PERSHO                1\n",
       "THEFT IP                   PERSON SHOT     THEFTI           PERSHO                1\n",
       "Name: count, Length: 66, dtype: int64"
      ]
     },
     "execution_count": 26,
     "metadata": {},
     "output_type": "execute_result"
    }
   ],
   "source": [
    "both[['init_type_dec21', 'fin_type_dec21', 'init_type_nov24', 'fin_type_nov24',]].value_counts()"
   ]
  },
  {
   "cell_type": "markdown",
   "id": "d70c15e7-8264-4a57-a674-8837eff31374",
   "metadata": {},
   "source": [
    "\n",
    "**Notes from BP:**\n",
    "- It looks like these records will not be salvageable for my research goal.\n",
    "- A new dataset is needed, at least containing the Event No. and a suitable indicator for ShotSpotter. That (and complete records for 2018, 2019, 2020) could be merged with these records and then I should be able to address my question."
   ]
  },
  {
   "cell_type": "code",
   "execution_count": null,
   "id": "953487c0-b215-47bd-ab59-cebd455d6f00",
   "metadata": {},
   "outputs": [],
   "source": []
  }
 ],
 "metadata": {
  "kernelspec": {
   "display_name": "Python 3 (ipykernel)",
   "language": "python",
   "name": "python3"
  },
  "language_info": {
   "codemirror_mode": {
    "name": "ipython",
    "version": 3
   },
   "file_extension": ".py",
   "mimetype": "text/x-python",
   "name": "python",
   "nbconvert_exporter": "python",
   "pygments_lexer": "ipython3",
   "version": "3.12.4"
  }
 },
 "nbformat": 4,
 "nbformat_minor": 5
}
