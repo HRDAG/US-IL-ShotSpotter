{
 "cells": [
  {
   "cell_type": "raw",
   "metadata": {},
   "source": [
    "title: Gunfire-related emergency event analysis for Significance Magazine\n",
    "author: Bailey Passmore, Data Scientist, [HRDAG](hrdag.org) & Larry Barrett, Consultant, [HRDAG](hrdag.org)\n",
    "date: \"{{ datetime.now().strftime('%Y-%m-%d %H:%M:%S') }}\""
   ]
  },
  {
   "cell_type": "code",
   "execution_count": 1,
   "metadata": {
    "execution": {
     "iopub.execute_input": "2025-03-06T04:54:45.672253Z",
     "iopub.status.busy": "2025-03-06T04:54:45.672146Z",
     "iopub.status.idle": "2025-03-06T04:54:45.933818Z",
     "shell.execute_reply": "2025-03-06T04:54:45.933504Z"
    }
   },
   "outputs": [],
   "source": [
    "%load_ext pretty_jupyter"
   ]
  },
  {
   "cell_type": "code",
   "execution_count": 2,
   "metadata": {
    "execution": {
     "iopub.execute_input": "2025-03-06T04:54:45.935427Z",
     "iopub.status.busy": "2025-03-06T04:54:45.935331Z",
     "iopub.status.idle": "2025-03-06T04:54:45.938784Z",
     "shell.execute_reply": "2025-03-06T04:54:45.938545Z"
    }
   },
   "outputs": [
    {
     "data": {
      "text/html": [
       "\n",
       "<style>\n",
       "    #Styling {\n",
       "        font-weight: bold;\n",
       "        font-family: Helvetica;\n",
       "    }\n",
       "</style>\n"
      ],
      "text/plain": [
       "<IPython.core.display.HTML object>"
      ]
     },
     "metadata": {},
     "output_type": "display_data"
    }
   ],
   "source": [
    "%%html\n",
    "\n",
    "<style>\n",
    "    #Styling {\n",
    "        font-weight: bold;\n",
    "        font-family: Helvetica;\n",
    "    }\n",
    "</style>"
   ]
  },
  {
   "cell_type": "markdown",
   "metadata": {},
   "source": [
    "# Goal\n",
    "\n",
    "- What we have in dev-pre-restructure is working fine but we're on a short deadline and need to streamline the data. Let's make a barebones table of the core data we need for analysis, including:\n",
    "    - `event_no`\n",
    "    - `date_occurred` (w/ `year_occurred`)\n",
    "    - `source_type` (a field derived from the initial event type in the data, either 911 call reporting gunfire or Shotspotter GDT alert)\n",
    "    - `event_location` (service address if specified)\n",
    "    - `date_dispatched` (is this the same as date of arrival?)"
   ]
  },
  {
   "cell_type": "markdown",
   "metadata": {},
   "source": [
    "# Research questions we're working towards\n",
    "\n",
    "1. Is dispatch reported at the same rate for all districts?\n",
    "2. RE: Soundthinking / Brookings Institute claim that some 80% of gunfire events do not get reported by citizens - is that True in Chicago?\n",
    "    * When SST alerts aren't matched to 911 calls, what is the typical disposition of such an alert?\n",
    "    * When 911 calls aren't matched to SST alert, what is the typical disposition?"
   ]
  },
  {
   "cell_type": "markdown",
   "metadata": {},
   "source": [
    "# Time period covered\n",
    "\n",
    "- Earliest date occurred included: '2021-01-01'\n",
    "- Last date occurred included: '2024-11-05' (when the SST technology was reportedly deactivated; CPD and OEMC_sst only cover to this date)\n",
    "    - Does it make sense to extend to end of 2024 anyways? the Dec 2024 911 calls won't have a SST match and could be ignored or addressed differently depending on how we handle analysis"
   ]
  },
  {
   "cell_type": "markdown",
   "metadata": {},
   "source": [
    "# Identifying Event type (based on the _init_type_ field)\n",
    "\n",
    "```\n",
    "shotspotter = ['SST', 'PSST', 'MSST'] # keywords provided by CPD in Info sheet\n",
    "citizencalls = ['SHOTS', 'SHOTSF', 'PERSHO',] # Note: 'PERGUN', 'PERDOW','PERHLP', 'DOMBAT', etc. excluded\n",
    "```"
   ]
  },
  {
   "cell_type": "markdown",
   "metadata": {},
   "source": [
    "# Note about what humans can do that SST can't\n",
    "\n",
    "In the OEMC data, in addition to reports originating as calls about shots fired ('SHOTSF') or persons being shot ('PERSHO'), we also see events with an initial label 'PERGUN' and final label referring to shots fired or someone shot. This tells us that not only do Chicagoans report gunfire in general, they may also report early warning signs of conflict involving firearms before any shots occur, giving first responders a head start to arrive on scene and provide potentially life-saving care."
   ]
  },
  {
   "cell_type": "code",
   "execution_count": 3,
   "metadata": {
    "execution": {
     "iopub.execute_input": "2025-03-06T04:54:45.963050Z",
     "iopub.status.busy": "2025-03-06T04:54:45.962899Z",
     "iopub.status.idle": "2025-03-06T04:54:46.333813Z",
     "shell.execute_reply": "2025-03-06T04:54:46.333514Z"
    }
   },
   "outputs": [],
   "source": [
    "# dependencies\n",
    "import re\n",
    "import numpy as np\n",
    "from datetime import timedelta\n",
    "import pandas as pd\n",
    "from geopy.geocoders import Nominatim\n",
    "from geopy.distance import geodesic"
   ]
  },
  {
   "cell_type": "code",
   "execution_count": 4,
   "metadata": {
    "execution": {
     "iopub.execute_input": "2025-03-06T04:54:46.335557Z",
     "iopub.status.busy": "2025-03-06T04:54:46.335403Z",
     "iopub.status.idle": "2025-03-06T04:54:46.339456Z",
     "shell.execute_reply": "2025-03-06T04:54:46.339169Z"
    }
   },
   "outputs": [],
   "source": [
    "# support methods\n",
    "def format_count(v):\n",
    "    return \"{:,}\".format(v)\n",
    "\n",
    "\n",
    "def format_prop(prop, decn=1, asperc=True):\n",
    "    if asperc: prop = prop*100\n",
    "    return \"{}%\".format(round(prop, decn))\n",
    "\n",
    "\n",
    "def report_fields(df, idcol, cols, fillna=False, headn=10):\n",
    "    data = df[[idcol] + cols].drop_duplicates()\n",
    "    if fillna:\n",
    "        count = data[cols].fillna('None reported').value_counts().to_frame().reset_index()\n",
    "        perc = data[cols].fillna('None reported').value_counts(normalize=True).to_frame().reset_index(\n",
    "            ).rename(columns={'proportion': 'percent'})\n",
    "    else:\n",
    "        count = data[cols].value_counts().to_frame().reset_index()\n",
    "        perc = data[cols].value_counts(normalize=True).to_frame().reset_index(\n",
    "            ).rename(columns={'proportion': 'percent'})\n",
    "    count['count'] = count['count'].apply(format_count)\n",
    "    perc.percent = perc.percent.apply(format_prop)\n",
    "    out = pd.merge(count, perc, on=cols)\n",
    "    return out.head(headn)"
   ]
  },
  {
   "cell_type": "code",
   "execution_count": 5,
   "metadata": {
    "execution": {
     "iopub.execute_input": "2025-03-06T04:54:46.340871Z",
     "iopub.status.busy": "2025-03-06T04:54:46.340763Z",
     "iopub.status.idle": "2025-03-06T04:54:46.615625Z",
     "shell.execute_reply": "2025-03-06T04:54:46.615303Z"
    }
   },
   "outputs": [],
   "source": [
    "# main\n",
    "colorder = [\n",
    "    'event_no',\n",
    "    'date_occurred',\n",
    "    'date_dispatched',\n",
    "    'location',\n",
    "    'location_x',\n",
    "    'location_y',\n",
    "    'init_type',\n",
    "    'init_type_desc',\n",
    "    'fin_type',\n",
    "    'fin_type_desc',\n",
    "    'disposition',\n",
    "    'source_type',\n",
    "    'early_warning',\n",
    "]\n",
    "data = pd.read_parquet(\"../../merge/output/subset.parquet\").rename(columns={\n",
    "    'event_type': 'source_type',\n",
    "    'event_type_init': 'init_type_desc',\n",
    "    'event_type_fin': 'fin_type_desc',})[colorder]\n",
    "assert data.event_no.nunique() == data.shape[0]"
   ]
  },
  {
   "cell_type": "markdown",
   "metadata": {},
   "source": [
    "# Review data"
   ]
  },
  {
   "cell_type": "code",
   "execution_count": 6,
   "metadata": {
    "execution": {
     "iopub.execute_input": "2025-03-06T04:54:46.617211Z",
     "iopub.status.busy": "2025-03-06T04:54:46.617113Z",
     "iopub.status.idle": "2025-03-06T04:54:46.627634Z",
     "shell.execute_reply": "2025-03-06T04:54:46.627381Z"
    }
   },
   "outputs": [
    {
     "data": {
      "text/markdown": [
       "\n",
       "<details open>\n",
       "<summary>Sample emergency event record.</summary>\n",
       "\n",
       "<table border=\"1\" class=\"dataframe\">\n",
       "  <thead>\n",
       "    <tr style=\"text-align: right;\">\n",
       "      <th></th>\n",
       "      <th>230684</th>\n",
       "    </tr>\n",
       "  </thead>\n",
       "  <tbody>\n",
       "    <tr>\n",
       "      <th>event_no</th>\n",
       "      <td>2215502048</td>\n",
       "    </tr>\n",
       "    <tr>\n",
       "      <th>date_occurred</th>\n",
       "      <td>2022-06-04 02:49:00</td>\n",
       "    </tr>\n",
       "    <tr>\n",
       "      <th>date_dispatched</th>\n",
       "      <td>2022-06-04 02:49:00</td>\n",
       "    </tr>\n",
       "    <tr>\n",
       "      <th>location</th>\n",
       "      <td>92XX  S STONY ISLAND AV</td>\n",
       "    </tr>\n",
       "    <tr>\n",
       "      <th>location_x</th>\n",
       "      <td>41.726</td>\n",
       "    </tr>\n",
       "    <tr>\n",
       "      <th>location_y</th>\n",
       "      <td>-87.584</td>\n",
       "    </tr>\n",
       "    <tr>\n",
       "      <th>init_type</th>\n",
       "      <td>SST</td>\n",
       "    </tr>\n",
       "    <tr>\n",
       "      <th>init_type_desc</th>\n",
       "      <td>SHOT SPOTTER</td>\n",
       "    </tr>\n",
       "    <tr>\n",
       "      <th>fin_type</th>\n",
       "      <td>SST</td>\n",
       "    </tr>\n",
       "    <tr>\n",
       "      <th>fin_type_desc</th>\n",
       "      <td>SHOT SPOTTER</td>\n",
       "    </tr>\n",
       "    <tr>\n",
       "      <th>disposition</th>\n",
       "      <td>MISC.INC./NO PERSON FND.</td>\n",
       "    </tr>\n",
       "    <tr>\n",
       "      <th>source_type</th>\n",
       "      <td>ShotSpotter alert</td>\n",
       "    </tr>\n",
       "    <tr>\n",
       "      <th>early_warning</th>\n",
       "      <td>False</td>\n",
       "    </tr>\n",
       "  </tbody>\n",
       "</table>\n",
       "\n",
       "</details>"
      ],
      "text/plain": [
       "<IPython.core.display.Markdown object>"
      ]
     },
     "execution_count": 6,
     "metadata": {},
     "output_type": "execute_result"
    }
   ],
   "source": [
    "%%jmd\n",
    "\n",
    "<details open>\n",
    "<summary>Sample emergency event record.</summary>\n",
    "\n",
    "{{ data.sample().T.to_html() }}\n",
    "\n",
    "</details>"
   ]
  },
  {
   "cell_type": "markdown",
   "metadata": {},
   "source": [
    "# Counts"
   ]
  },
  {
   "cell_type": "code",
   "execution_count": 7,
   "metadata": {
    "execution": {
     "iopub.execute_input": "2025-03-06T04:54:46.629138Z",
     "iopub.status.busy": "2025-03-06T04:54:46.629041Z",
     "iopub.status.idle": "2025-03-06T04:54:46.767436Z",
     "shell.execute_reply": "2025-03-06T04:54:46.767145Z"
    }
   },
   "outputs": [
    {
     "data": {
      "text/markdown": [
       "\n",
       "### Overall\n",
       "\n",
       "- There are 394,199 gunfire-related 911 calls and ShotSpotter alerts prepared for this analysis.\n",
       "- The data cover a time period between 2021-01-01 and 2024-11-04.\n",
       "\n",
       "---"
      ],
      "text/plain": [
       "<IPython.core.display.Markdown object>"
      ]
     },
     "execution_count": 7,
     "metadata": {},
     "output_type": "execute_result"
    }
   ],
   "source": [
    "%%jmd\n",
    "\n",
    "### Overall\n",
    "\n",
    "- There are {{format_count(data.shape[0])}} gunfire-related 911 calls and ShotSpotter alerts prepared for this analysis.\n",
    "- The data cover a time period between {{ data.date_occurred.dt.date.min() }} and {{ data.date_occurred.dt.date.max() }}.\n",
    "\n",
    "---"
   ]
  },
  {
   "cell_type": "code",
   "execution_count": 8,
   "metadata": {
    "execution": {
     "iopub.execute_input": "2025-03-06T04:54:46.768909Z",
     "iopub.status.busy": "2025-03-06T04:54:46.768781Z",
     "iopub.status.idle": "2025-03-06T04:54:47.234391Z",
     "shell.execute_reply": "2025-03-06T04:54:47.234088Z"
    }
   },
   "outputs": [
    {
     "data": {
      "text/markdown": [
       "\n",
       "### Source type\n",
       "\n",
       "- Frequency table:\n",
       "\n",
       "<table border=\"1\" class=\"dataframe\">\n",
       "  <thead>\n",
       "    <tr style=\"text-align: right;\">\n",
       "      <th></th>\n",
       "      <th>source_type</th>\n",
       "      <th>count</th>\n",
       "      <th>percent</th>\n",
       "    </tr>\n",
       "  </thead>\n",
       "  <tbody>\n",
       "    <tr>\n",
       "      <th>0</th>\n",
       "      <td>Human reporting gunfire</td>\n",
       "      <td>237,302</td>\n",
       "      <td>60.2%</td>\n",
       "    </tr>\n",
       "    <tr>\n",
       "      <th>1</th>\n",
       "      <td>ShotSpotter alert</td>\n",
       "      <td>156,897</td>\n",
       "      <td>39.8%</td>\n",
       "    </tr>\n",
       "  </tbody>\n",
       "</table>\n",
       "\n",
       "\n",
       "- Summary: Of the 394,199 emergency events included in the analysis,\n",
       "    - 237,302 or 60.2%\n",
       "        were generated by a 911 call, and\n",
       "    - 156,897 or 39.8%\n",
       "        were generated by a ShotSpotter alert.\n",
       "\n",
       "---\n",
       "\n",
       "#### 5 most frequently reported `disposition` values\n",
       "Presented are:\n",
       "- the initial event type as reported by OEMC and CPD (`init_type`),\n",
       "- the description of the initial type as found in the data (`init_type_desc`), and\n",
       "- the type of source which reported the event (`source_type`).\n",
       "\n",
       "<table border=\"1\" class=\"dataframe\">\n",
       "  <thead>\n",
       "    <tr style=\"text-align: right;\">\n",
       "      <th></th>\n",
       "      <th>init_type</th>\n",
       "      <th>init_type_desc</th>\n",
       "      <th>source_type</th>\n",
       "      <th>count</th>\n",
       "      <th>percent</th>\n",
       "    </tr>\n",
       "  </thead>\n",
       "  <tbody>\n",
       "    <tr>\n",
       "      <th>0</th>\n",
       "      <td>SHOTSF</td>\n",
       "      <td>SHOTS FIRED</td>\n",
       "      <td>Human reporting gunfire</td>\n",
       "      <td>191,216</td>\n",
       "      <td>48.5%</td>\n",
       "    </tr>\n",
       "    <tr>\n",
       "      <th>1</th>\n",
       "      <td>SST</td>\n",
       "      <td>SHOT SPOTTER</td>\n",
       "      <td>ShotSpotter alert</td>\n",
       "      <td>113,791</td>\n",
       "      <td>28.9%</td>\n",
       "    </tr>\n",
       "    <tr>\n",
       "      <th>2</th>\n",
       "      <td>MSST</td>\n",
       "      <td>Multiple Shot - ShotSpotter</td>\n",
       "      <td>ShotSpotter alert</td>\n",
       "      <td>38,855</td>\n",
       "      <td>9.9%</td>\n",
       "    </tr>\n",
       "    <tr>\n",
       "      <th>3</th>\n",
       "      <td>PERSHO</td>\n",
       "      <td>PERSON SHOT</td>\n",
       "      <td>Human reporting gunfire</td>\n",
       "      <td>32,468</td>\n",
       "      <td>8.2%</td>\n",
       "    </tr>\n",
       "    <tr>\n",
       "      <th>4</th>\n",
       "      <td>SHOTS</td>\n",
       "      <td>SHOTS FIRED (OV)</td>\n",
       "      <td>Human reporting gunfire</td>\n",
       "      <td>13,618</td>\n",
       "      <td>3.5%</td>\n",
       "    </tr>\n",
       "    <tr>\n",
       "      <th>5</th>\n",
       "      <td>PSST</td>\n",
       "      <td>Probable Shot - ShotSpotter</td>\n",
       "      <td>ShotSpotter alert</td>\n",
       "      <td>4,251</td>\n",
       "      <td>1.1%</td>\n",
       "    </tr>\n",
       "  </tbody>\n",
       "</table>\n",
       "\n",
       "---"
      ],
      "text/plain": [
       "<IPython.core.display.Markdown object>"
      ]
     },
     "execution_count": 8,
     "metadata": {},
     "output_type": "execute_result"
    }
   ],
   "source": [
    "%%jmd\n",
    "\n",
    "### Source type\n",
    "\n",
    "- Frequency table:\n",
    "\n",
    "{{ report_fields(df=data, idcol='event_no', cols=['source_type',]).to_html() }}\n",
    "\n",
    "\n",
    "- Summary: Of the {{format_count(data.shape[0])}} emergency events included in the analysis,\n",
    "    - {{format_count((data.source_type == 'Human reporting gunfire').sum()) }} or {{\n",
    "        format_prop((data.source_type == 'Human reporting gunfire').sum()/data.shape[0]) }}\n",
    "        were generated by a 911 call, and\n",
    "    - {{format_count((data.source_type == 'ShotSpotter alert').sum())}} or {{\n",
    "        format_prop((data.source_type == 'ShotSpotter alert').sum()/data.shape[0])}}\n",
    "        were generated by a ShotSpotter alert.\n",
    "\n",
    "---\n",
    "\n",
    "#### 5 most frequently reported `disposition` values\n",
    "Presented are:\n",
    "- the initial event type as reported by OEMC and CPD (`init_type`),\n",
    "- the description of the initial type as found in the data (`init_type_desc`), and\n",
    "- the type of source which reported the event (`source_type`).\n",
    "\n",
    "{{ report_fields(df=data, idcol='event_no', cols=['init_type', 'init_type_desc', 'source_type'], headn=10).to_html() }}\n",
    "\n",
    "---"
   ]
  },
  {
   "cell_type": "code",
   "execution_count": 9,
   "metadata": {
    "execution": {
     "iopub.execute_input": "2025-03-06T04:54:47.235945Z",
     "iopub.status.busy": "2025-03-06T04:54:47.235788Z",
     "iopub.status.idle": "2025-03-06T04:54:47.436623Z",
     "shell.execute_reply": "2025-03-06T04:54:47.436358Z"
    }
   },
   "outputs": [
    {
     "data": {
      "text/markdown": [
       "\n",
       "### Disposition\n",
       "\n",
       "In the info page included with the data, the CPD FOIA officer informed us that they had internally\n",
       "identified emergency events from both sources, 911 callers and ShotSpotter, that referred to the same underlying gunfire event,\n",
       "and that the `disposition` field was only included in the responsive records when ShotSpotter was the first to report.\n",
       "[Source](https://github.com/HRDAG/US-IL-ShotSpotter/blob/main/data/CPD_sst/import/docs/22809-P022910-CFS-SHOTSPOTTER.xlsx%20-%20Header%20sheet.pdf)\n",
       "\n",
       "- Of the 394,199 emergency events included in the analysis, 123,216 or 31.3%\n",
       "    have a reported disposition.\n",
       "\n",
       "---\n",
       "\n",
       "#### 5 most frequently reported `disposition` values\n",
       "<details open>\n",
       "<summary>Presented are the 5 most frequently reported `disposition` values\n",
       "for emergency events in which ShotSpotter was the first alert.</summary>\n",
       "\n",
       "<table border=\"1\" class=\"dataframe\">\n",
       "  <thead>\n",
       "    <tr style=\"text-align: right;\">\n",
       "      <th></th>\n",
       "      <th>disposition</th>\n",
       "      <th>count</th>\n",
       "      <th>percent</th>\n",
       "    </tr>\n",
       "  </thead>\n",
       "  <tbody>\n",
       "    <tr>\n",
       "      <th>0</th>\n",
       "      <td>MISC.INC./OTH POLICE SER</td>\n",
       "      <td>87,415</td>\n",
       "      <td>70.9%</td>\n",
       "    </tr>\n",
       "    <tr>\n",
       "      <th>1</th>\n",
       "      <td>MISC.INC./NO PERSON FND.</td>\n",
       "      <td>15,671</td>\n",
       "      <td>12.7%</td>\n",
       "    </tr>\n",
       "    <tr>\n",
       "      <th>2</th>\n",
       "      <td>WEAP VIO/DISC OF FIREA</td>\n",
       "      <td>5,435</td>\n",
       "      <td>4.4%</td>\n",
       "    </tr>\n",
       "    <tr>\n",
       "      <th>3</th>\n",
       "      <td>BATTERY:AGGR:HANDGUN</td>\n",
       "      <td>2,746</td>\n",
       "      <td>2.2%</td>\n",
       "    </tr>\n",
       "    <tr>\n",
       "      <th>4</th>\n",
       "      <td>ASSAULT;AGG HAND</td>\n",
       "      <td>1,314</td>\n",
       "      <td>1.1%</td>\n",
       "    </tr>\n",
       "  </tbody>\n",
       "</table>\n",
       "\n",
       "</details>\n",
       "\n",
       "- Of the 123,216 emergency events about potential gunfire\n",
       "    identified by CPD as first reported by ShotSpotter, 104,586 or 84.9%\n",
       "    are labeled as a \"Miscellaneous Incident.\"\n",
       "\n",
       "---"
      ],
      "text/plain": [
       "<IPython.core.display.Markdown object>"
      ]
     },
     "execution_count": 9,
     "metadata": {},
     "output_type": "execute_result"
    }
   ],
   "source": [
    "%%jmd\n",
    "\n",
    "### Disposition\n",
    "\n",
    "In the info page included with the data, the CPD FOIA officer informed us that they had internally\n",
    "identified emergency events from both sources, 911 callers and ShotSpotter, that referred to the same underlying gunfire event,\n",
    "and that the `disposition` field was only included in the responsive records when ShotSpotter was the first to report.\n",
    "[Source](https://github.com/HRDAG/US-IL-ShotSpotter/blob/main/data/CPD_sst/import/docs/22809-P022910-CFS-SHOTSPOTTER.xlsx%20-%20Header%20sheet.pdf)\n",
    "\n",
    "- Of the {{format_count(data.shape[0])}} emergency events included in the analysis, {{\n",
    "    format_count(data.disposition.notna().sum())}} or {{\n",
    "    format_prop(data.disposition.notna().sum()/data.shape[0])}}\n",
    "    have a reported disposition.\n",
    "\n",
    "---\n",
    "\n",
    "#### 5 most frequently reported `disposition` values\n",
    "<details open>\n",
    "<summary>Presented are the 5 most frequently reported `disposition` values\n",
    "for emergency events in which ShotSpotter was the first alert.</summary>\n",
    "\n",
    "{{ report_fields(df=data, idcol='event_no', cols=['disposition',], headn=5).to_html() }}\n",
    "\n",
    "</details>\n",
    "\n",
    "- Of the {{format_count(data.disposition.notna().sum())}} emergency events about potential gunfire\n",
    "    identified by CPD as first reported by ShotSpotter, {{\n",
    "    format_count(data.disposition.str.contains(\"MISC.INC.\", na=False, regex=False).sum())}} or {{\n",
    "    format_prop(data.disposition.str.contains(\"MISC.INC.\", na=False, regex=False).sum()/data.disposition.notna().sum())}}\n",
    "    are labeled as a \"Miscellaneous Incident.\"\n",
    "\n",
    "---"
   ]
  }
 ],
 "metadata": {
  "kernelspec": {
   "display_name": "Python 3 (ipykernel)",
   "language": "python",
   "name": "python3"
  },
  "language_info": {
   "codemirror_mode": {
    "name": "ipython",
    "version": 3
   },
   "file_extension": ".py",
   "mimetype": "text/x-python",
   "name": "python",
   "nbconvert_exporter": "python",
   "pygments_lexer": "ipython3",
   "version": "3.12.7"
  }
 },
 "nbformat": 4,
 "nbformat_minor": 4
}
