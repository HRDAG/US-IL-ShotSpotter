{
 "cells": [
  {
   "cell_type": "markdown",
   "id": "eca77f56-398d-40fd-9f1d-d2601f53c962",
   "metadata": {},
   "source": [
    "# goal\n",
    "\\\n",
    "demo the OEMC dataset ahead of analysis\n",
    "\n",
    "- note that the way I format districts may not be the best thing. Currently, I:\\\n",
    "    (1) preserve the original field,\\\n",
    "    (2) add a numeric version that removes padding 0s and formats as int,\\\n",
    "    (3) add a non-numeric version that preserves fields with a potentially meaningful non-numeric pattern, ie) \"CW3\".\\\n",
    "  The idea was to use the numeric version because that matches up with the district numbering in the open data portal, but that might not be the right call.\n",
    "- note also that the `kwfields.yml` is not an exhaustive groupings of the `init_type` and `fin_type`s in the data and could be expanded on\n",
    "- I don't know what \"EL CHECK\" is"
   ]
  },
  {
   "cell_type": "markdown",
   "id": "28d31a16-42c8-4114-bb96-4b026f688681",
   "metadata": {},
   "source": [
    "# setup"
   ]
  },
  {
   "cell_type": "code",
   "execution_count": 1,
   "id": "ea28be4f-add8-4c63-91c9-c53b2152f703",
   "metadata": {},
   "outputs": [],
   "source": [
    "# dependencies\n",
    "import yaml\n",
    "import re\n",
    "import numpy as np\n",
    "import pandas as pd"
   ]
  },
  {
   "cell_type": "code",
   "execution_count": 2,
   "id": "02204819-149d-4137-a123-ede80a245caf",
   "metadata": {},
   "outputs": [],
   "source": [
    "# support methods\n",
    "def readyaml(fname):\n",
    "    with open(fname, 'r') as f:\n",
    "        data = yaml.safe_load(f)\n",
    "    return data\n",
    "\n",
    "\n",
    "def group_timedelta(td):\n",
    "    if pd.isna(td): return 'No dispatch reported'\n",
    "    elif td < pd.Timedelta(0): return 'Dispatch before call'\n",
    "    elif td < pd.Timedelta(minutes=5): return 'Dispatch under 5 minutes'\n",
    "    elif td < pd.Timedelta(minutes=15): return 'Dispatch under 15 minutes'\n",
    "    elif td < pd.Timedelta(minutes=30): return 'Dispatch under 30 minutes'\n",
    "    elif td < pd.Timedelta(minutes=60): return 'Dispatch under 1 hour'\n",
    "    elif td < pd.Timedelta(minutes=120): return 'Dispatch under 2 hours'\n",
    "    elif td < pd.Timedelta(minutes=360): return 'Dispatch under 6 hours'\n",
    "    elif td < pd.Timedelta(days=.5): return 'Dispatch under 12 hours'\n",
    "    elif td < pd.Timedelta(days=1): return 'Dispatch under 24 hours'\n",
    "    elif td < pd.Timedelta(days=2): return 'Dispatch under 48 hours'\n",
    "    return 'Dispatch 48 hours or later'"
   ]
  },
  {
   "cell_type": "code",
   "execution_count": 4,
   "id": "836ae25d-c6a4-4199-96ae-20d0a720e2fb",
   "metadata": {},
   "outputs": [],
   "source": [
    "# main\n",
    "oemc = pd.read_parquet(\"../../data/OEMC_MP/export/output/oemc-prepped.parquet\")\n",
    "kwrules = readyaml(\"../../data/shared/hand/keywords.yml\")\n",
    "assert oemc.shape[0] > 12000000\n",
    "assert not oemc.fin_type.isna().any()"
   ]
  },
  {
   "cell_type": "markdown",
   "id": "1c3b82e4-49a1-46cc-90cb-dab35e9ebc49",
   "metadata": {},
   "source": [
    "# prep for analysis\n",
    "\n",
    "- I thought this stuff was done in the version in `Chi-MP-data-story`, but it looks like I actually added these fields later and the version in the public repo is only lightly processed, not prepped for analysis.\n",
    "\n",
    "**NOTE:** I'm not sure if the numeric district thing is the right approach or if it needs some tweaking, open to feedback and should review this before/when utilizing"
   ]
  },
  {
   "cell_type": "code",
   "execution_count": null,
   "id": "55521f26-fbd8-497e-9d51-22fe7695f783",
   "metadata": {},
   "outputs": [],
   "source": [
    "oemc.loc[oemc.event_type == 'gun', ['event_group', 'event_type', 'init_type', 'fin_type']\n",
    "].fillna(\"NO INITIAL TYPE\").value_counts().head(50)"
   ]
  },
  {
   "cell_type": "code",
   "execution_count": null,
   "id": "6ee06b66-34b6-417a-9cda-8eb4abe5a462",
   "metadata": {},
   "outputs": [],
   "source": [
    "oemc[['event_group', 'event_type', 'init_type', 'fin_type']\n",
    "].fillna(\"NO INITIAL TYPE\").value_counts().head(50)"
   ]
  },
  {
   "cell_type": "code",
   "execution_count": null,
   "id": "9b2b6c67-ee89-4c6b-adc1-80576a362fe5",
   "metadata": {},
   "outputs": [],
   "source": [
    "oemc.init_type.isna().sum()"
   ]
  },
  {
   "cell_type": "code",
   "execution_count": null,
   "id": "02c3a2ae-3027-4e04-9939-48ce8060f61c",
   "metadata": {},
   "outputs": [],
   "source": [
    "oemc.loc[oemc.init_type.isna(), 'fin_type'].value_counts()"
   ]
  },
  {
   "cell_type": "markdown",
   "id": "3032767b-7486-46ca-9dc3-d3e4bca23c36",
   "metadata": {},
   "source": [
    "# preview data"
   ]
  },
  {
   "cell_type": "code",
   "execution_count": null,
   "id": "f16c71de-1643-4f9e-968f-029916807a84",
   "metadata": {},
   "outputs": [],
   "source": [
    "qa = f\"Q:\\tHow many records are in the OEMC dispatch data?\\nA:\\t{oemc.shape[0]:,} records\"\n",
    "print(qa)"
   ]
  },
  {
   "cell_type": "code",
   "execution_count": null,
   "id": "49cf8382-8780-4be5-9c9b-752ae72851ca",
   "metadata": {},
   "outputs": [],
   "source": [
    "oemc.sample().T"
   ]
  },
  {
   "cell_type": "markdown",
   "id": "ee07c1d2-ed34-485c-b342-d1c14293a7c5",
   "metadata": {},
   "source": [
    "# review of data"
   ]
  },
  {
   "cell_type": "markdown",
   "id": "1219652a-f209-434e-b8af-732378d024b8",
   "metadata": {},
   "source": [
    "### all fields"
   ]
  },
  {
   "cell_type": "code",
   "execution_count": null,
   "id": "a881b243-e0e6-47b5-b6a0-0d94715b609f",
   "metadata": {},
   "outputs": [],
   "source": [
    "oemc.info()"
   ]
  },
  {
   "cell_type": "code",
   "execution_count": null,
   "id": "3271e3b5-21c2-42ac-ba06-7067a62a3858",
   "metadata": {},
   "outputs": [],
   "source": [
    "for col in oemc.columns:\n",
    "    print(f\"Column name:\\t`{col}`\")\n",
    "    print(f\"N non-missing:\\t{oemc[col].notna().sum():,}\")\n",
    "    print(f\"N unique:\\t{len(oemc[col].unique()):,}\")\n",
    "    print()"
   ]
  },
  {
   "cell_type": "markdown",
   "id": "32e1b6bd-18cf-479b-ac72-a03d9fc92f5b",
   "metadata": {},
   "source": [
    "### original\n",
    "\n",
    "- not inclusive of every single original field\n",
    "- might have light processing or formatting applied"
   ]
  },
  {
   "cell_type": "code",
   "execution_count": null,
   "id": "948327e4-6a1f-4089-89c8-1bb254603658",
   "metadata": {},
   "outputs": [],
   "source": [
    "oemc.call_date.describe()"
   ]
  },
  {
   "cell_type": "code",
   "execution_count": null,
   "id": "3f294cf6-3831-44b1-9a21-df93fcfcb849",
   "metadata": {},
   "outputs": [],
   "source": [
    "oemc.district.value_counts().head(20)"
   ]
  },
  {
   "cell_type": "code",
   "execution_count": null,
   "id": "7b5adeba-0f34-457e-bd43-1475dfc65420",
   "metadata": {},
   "outputs": [],
   "source": [
    "oemc[['init_type', 'fin_type']].value_counts().head(10)"
   ]
  },
  {
   "cell_type": "code",
   "execution_count": null,
   "id": "31afb36d-25a6-4135-801c-8fbdb671f7c8",
   "metadata": {},
   "outputs": [],
   "source": [
    "oemc[['init_priority', 'init_type']].value_counts().head(10)"
   ]
  },
  {
   "cell_type": "markdown",
   "id": "6d31310d-11ee-415d-a367-c00440bb317a",
   "metadata": {},
   "source": [
    "### added for analysis\n",
    "\n",
    "- might have light processing or formatting applied"
   ]
  },
  {
   "cell_type": "code",
   "execution_count": null,
   "id": "c5082aa5-d63d-41f3-b745-41e06d4715cf",
   "metadata": {},
   "outputs": [],
   "source": [
    "oemc.event_group.value_counts()"
   ]
  },
  {
   "cell_type": "code",
   "execution_count": null,
   "id": "8f8a4dd5-e236-46ab-bcd7-5d1b7ff8dce3",
   "metadata": {},
   "outputs": [],
   "source": [
    "oemc.loc[oemc.init_type.str.contains(\"GENERIC\", na=False), ['init_type', 'fin_type']].value_counts()"
   ]
  },
  {
   "cell_type": "code",
   "execution_count": null,
   "id": "be2c6609-4c37-4073-9f29-c83f33240e0a",
   "metadata": {},
   "outputs": [],
   "source": [
    "oemc.event_type.value_counts()"
   ]
  },
  {
   "cell_type": "code",
   "execution_count": null,
   "id": "2ca9a266-d94a-4be2-9381-4f583fc6d37b",
   "metadata": {},
   "outputs": [],
   "source": [
    "oemc.year_called.value_counts().sort_index()"
   ]
  },
  {
   "cell_type": "code",
   "execution_count": null,
   "id": "d1bce2f6-fde1-45ea-833a-54c3d9801df5",
   "metadata": {},
   "outputs": [],
   "source": [
    "oemc.time_to_dispatch.describe()"
   ]
  },
  {
   "cell_type": "code",
   "execution_count": null,
   "id": "a30475ef-1ad3-4ed0-90b7-34baaeec6f97",
   "metadata": {},
   "outputs": [],
   "source": [
    "oemc.ttd_group.value_counts()"
   ]
  },
  {
   "cell_type": "code",
   "execution_count": null,
   "id": "b5e1aae6-957b-4fd2-8b93-7592a9d5a636",
   "metadata": {},
   "outputs": [],
   "source": [
    "oemc.numeric_district.value_counts()"
   ]
  },
  {
   "cell_type": "markdown",
   "id": "acd9efa4-2352-42b5-87a5-3d8886e1e24d",
   "metadata": {},
   "source": [
    "# topics\n",
    "\n"
   ]
  },
  {
   "cell_type": "code",
   "execution_count": null,
   "id": "28ca160d-c5aa-4463-adfb-aeb49edff145",
   "metadata": {},
   "outputs": [],
   "source": []
  }
 ],
 "metadata": {
  "kernelspec": {
   "display_name": "Python 3 (ipykernel)",
   "language": "python",
   "name": "python3"
  },
  "language_info": {
   "codemirror_mode": {
    "name": "ipython",
    "version": 3
   },
   "file_extension": ".py",
   "mimetype": "text/x-python",
   "name": "python",
   "nbconvert_exporter": "python",
   "pygments_lexer": "ipython3",
   "version": "3.12.7"
  }
 },
 "nbformat": 4,
 "nbformat_minor": 5
}
