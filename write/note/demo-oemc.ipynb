{
 "cells": [
  {
   "cell_type": "markdown",
   "id": "eca77f56-398d-40fd-9f1d-d2601f53c962",
   "metadata": {},
   "source": [
    "# goal\n",
    "\\\n",
    "demo the OEMC dataset ahead of analysis\n",
    "\n",
    "- note that the way I format districts may not be the best thing. Currently, I:\\\n",
    "    (1) preserve the original field,\\\n",
    "    (2) add a numeric version that removes padding 0s and formats as int,\\\n",
    "    (3) add a non-numeric version that preserves fields with a potentially meaningful non-numeric pattern, ie) \"CW3\".\\\n",
    "  The idea was to use the numeric version because that matches up with the district numbering in the open data portal, but that might not be the right call.\n",
    "- note also that the `kwfields.yml` is not an exhaustive groupings of the `init_type` and `fin_type`s in the data and could be expanded on\n",
    "- I don't know what \"EL CHECK\" is"
   ]
  },
  {
   "cell_type": "markdown",
   "id": "28d31a16-42c8-4114-bb96-4b026f688681",
   "metadata": {},
   "source": [
    "# setup"
   ]
  },
  {
   "cell_type": "code",
   "execution_count": 1,
   "id": "ea28be4f-add8-4c63-91c9-c53b2152f703",
   "metadata": {},
   "outputs": [],
   "source": [
    "# dependencies\n",
    "import yaml\n",
    "import re\n",
    "import numpy as np\n",
    "import pandas as pd"
   ]
  },
  {
   "cell_type": "code",
   "execution_count": 2,
   "id": "02204819-149d-4137-a123-ede80a245caf",
   "metadata": {},
   "outputs": [],
   "source": [
    "# support methods\n",
    "def readyaml(fname):\n",
    "    with open(fname, 'r') as f:\n",
    "        data = yaml.safe_load(f)\n",
    "    return data\n",
    "\n",
    "\n",
    "def group_timedelta(td):\n",
    "    if pd.isna(td): return 'No dispatch reported'\n",
    "    elif td < pd.Timedelta(0): return 'Dispatch before call'\n",
    "    elif td < pd.Timedelta(minutes=5): return 'Dispatch under 5 minutes'\n",
    "    elif td < pd.Timedelta(minutes=15): return 'Dispatch under 15 minutes'\n",
    "    elif td < pd.Timedelta(minutes=30): return 'Dispatch under 30 minutes'\n",
    "    elif td < pd.Timedelta(minutes=60): return 'Dispatch under 1 hour'\n",
    "    elif td < pd.Timedelta(minutes=120): return 'Dispatch under 2 hours'\n",
    "    elif td < pd.Timedelta(minutes=360): return 'Dispatch under 6 hours'\n",
    "    elif td < pd.Timedelta(days=.5): return 'Dispatch under 12 hours'\n",
    "    elif td < pd.Timedelta(days=1): return 'Dispatch under 24 hours'\n",
    "    elif td < pd.Timedelta(days=2): return 'Dispatch under 48 hours'\n",
    "    return 'Dispatch 48 hours or later'"
   ]
  },
  {
   "cell_type": "code",
   "execution_count": 3,
   "id": "836ae25d-c6a4-4199-96ae-20d0a720e2fb",
   "metadata": {},
   "outputs": [],
   "source": [
    "# main\n",
    "oemc = pd.read_parquet(\"../../data/OEMC_MP/export/output/oemc-prepped.parquet\")\n",
    "kwrules = readyaml(\"../../data/shared/hand/keywords.yml\")\n",
    "assert oemc.shape[0] > 12000000\n",
    "assert not oemc.fin_type.isna().any()"
   ]
  },
  {
   "cell_type": "markdown",
   "id": "1c3b82e4-49a1-46cc-90cb-dab35e9ebc49",
   "metadata": {},
   "source": [
    "# prep for analysis\n",
    "\n",
    "- I thought this stuff was done in the version in `Chi-MP-data-story`, but it looks like I actually added these fields later and the version in the public repo is only lightly processed, not prepped for analysis.\n",
    "\n",
    "**NOTE:** I'm not sure if the numeric district thing is the right approach or if it needs some tweaking, open to feedback and should review this before/when utilizing"
   ]
  },
  {
   "cell_type": "code",
   "execution_count": 4,
   "id": "55521f26-fbd8-497e-9d51-22fe7695f783",
   "metadata": {},
   "outputs": [
    {
     "data": {
      "text/plain": [
       "event_group  event_type  init_type                    fin_type                \n",
       "help         gun         SHOTS FIRED                  SHOTS FIRED                 71365\n",
       "                         SHOTS FIRED (OV)             SHOTS FIRED (OV)            12671\n",
       "                         PERSON SHOT                  PERSON SHOT                  8165\n",
       "                         SHOTS FIRED                  PERSON SHOT                   173\n",
       "                         NO INITIAL TYPE              SHOTS FIRED (OV)              120\n",
       "                         SHOTS FIRED (OV)             SHOT SPOTTER                   94\n",
       "                         TRAFFIC STOP (OV)            SHOTS FIRED (OV)               90\n",
       "                         SHOT SPOTTER                 SHOTS FIRED (OV)               78\n",
       "                                                      PERSON SHOT                    72\n",
       "                         PERSON SHOT                  SHOTS FIRED                    56\n",
       "                         SHOTS FIRED (OV)             PERSON SHOT                    54\n",
       "                         STREET STOP                  SHOTS FIRED (OV)               49\n",
       "                         SHOTS FIRED                  CRIM DAM. TO PROP RPT          43\n",
       "                         NO INITIAL TYPE              PERSON SHOT                    41\n",
       "                         SHOTS FIRED                  SHOT SPOTTER                   39\n",
       "                                                      SHOTS FIRED (OV)               38\n",
       "                         TRAFFIC STOP (OV)            PERSON SHOT                    38\n",
       "                         SHOT SPOTTER                 SHOTS FIRED                    37\n",
       "                         POLICE EMERG. EVENT REQUEST  PERSON SHOT                    31\n",
       "                         SHOTS FIRED (OV)             TRAFFIC PURSUIT (ONVIEW)       25\n",
       "                         DISTURBANCE - MUSIC/NOISE    SHOTS FIRED                    25\n",
       "                         AMBULANCE (OV)               PERSON SHOT                    22\n",
       "                         PERSON SHOT                  PERSON STABBED                 22\n",
       "                         DISTURBANCE                  SHOTS FIRED                    19\n",
       "                         STREET STOP                  PERSON SHOT                    19\n",
       "                         SHOTS FIRED (OV)             10-1 OV                        19\n",
       "                         SHOTS FIRED                  SWAT INCIDENT                  17\n",
       "                         TRAFFIC STOP (OV)            SHOTS FIRED                    14\n",
       "                         INFO. FOR THE POLICE         SHOTS FIRED                    13\n",
       "                         ON VIEW                      SHOTS FIRED (OV)               13\n",
       "                         PERSON SHOT                  SWAT INCIDENT                  12\n",
       "                         GO IN [OV]                   PERSON SHOT                    12\n",
       "                         SHOTS FIRED                  10-1                           12\n",
       "                         SHOTS FIRED (OV)             SHOTS FIRED                    11\n",
       "                         SHOTS FIRED                  INFO. FOR THE POLICE           11\n",
       "                         DISTURBANCE                  PERSON SHOT                    11\n",
       "                         SHOTS FIRED                  TRAFFIC PURSUIT (ONVIEW)       10\n",
       "                                                      10-1 OV                        10\n",
       "                         DISTURBANCE                  SHOTS FIRED (OV)               10\n",
       "                         ON VIEW                      PERSON SHOT                    10\n",
       "                         CRIM DAM. TO PROP JO         SHOTS FIRED                    10\n",
       "                         ON VIEW                      SHOTS FIRED                     9\n",
       "                         STREET STOP                  SHOTS FIRED                     9\n",
       "                         SHOTS FIRED (OV)             10-1                            8\n",
       "                         LOOTING                      SHOTS FIRED                     8\n",
       "                         SHOTS FIRED (OV)             SWAT INCIDENT                   7\n",
       "                         BURGLARY IP                  SHOTS FIRED                     7\n",
       "                         GANG DISTURBANCE             SHOTS FIRED                     7\n",
       "                         ROBBERY JO                   SHOTS FIRED                     6\n",
       "                         PERSON SHOT                  INFO. FOR THE POLICE            6\n",
       "Name: count, dtype: int64"
      ]
     },
     "execution_count": 4,
     "metadata": {},
     "output_type": "execute_result"
    }
   ],
   "source": [
    "oemc.loc[oemc.event_type == 'gun', ['event_group', 'event_type', 'init_type', 'fin_type']\n",
    "].fillna(\"NO INITIAL TYPE\").value_counts().head(50)"
   ]
  },
  {
   "cell_type": "code",
   "execution_count": 5,
   "id": "6ee06b66-34b6-417a-9cda-8eb4abe5a462",
   "metadata": {},
   "outputs": [
    {
     "data": {
      "text/plain": [
       "event_group  event_type            init_type                  fin_type                 \n",
       "surveil      traffic               TRAFFIC STOP (OV)          TRAFFIC STOP (OV)            2612639\n",
       "             patrol                Community Interaction      Community Interaction         782470\n",
       "other        other                 DISTURBANCE                DISTURBANCE                   541972\n",
       "help         noinjury_report       AUTO ACCIDENT PD           AUTO ACCIDENT PD              452511\n",
       "                                   DOMESTIC DISTURBANCE       DOMESTIC DISTURBANCE          412691\n",
       "surveil      general               MISSION                    MISSION                       335607\n",
       "help         noinjury_report       ALARM BURGLAR              ALARM BURGLAR                 298438\n",
       "other        other                 EL CHECK [OV]              EL CHECK [OV]                 279423\n",
       "help         noinjury_report       CHECK WELL BEING           CHECK WELL BEING              248942\n",
       "surveil      traffic               PARKING VIOL. 1            PARKING VIOL. 1               247982\n",
       "             patrol                DISTURBANCE - MUSIC/NOISE  DISTURBANCE - MUSIC/NOISE     207178\n",
       "                                   DETAIL                     DETAIL                        186168\n",
       "                                   PREMISE CHECK [OV]         PREMISE CHECK [OV]            182623\n",
       "                                   STREET STOP                STREET STOP                   173749\n",
       "help         noinjury_report       THEFT REPORT               THEFT REPORT                  169107\n",
       "             injury_report         BATTERY IP                 BATTERY IP                    164029\n",
       "                                   EMS                        EMS                           162094\n",
       "surveil      patrol                ALARM COMMERCIAL           ALARM COMMERCIAL              155443\n",
       "             traffic               PARKING VIOL. 2            PARKING VIOL. 2               148683\n",
       "             patrol                SUSPICIOUS PERSON          SUSPICIOUS PERSON             137791\n",
       "other        shotspotter_reclass?  SUSPECTED 911 MISUSE       SUSPECTED 911 MISUSE          137473\n",
       "help         injury_report         DOMESTIC BATTERY           DOMESTIC BATTERY              128605\n",
       "surveil      general               INFO. FOR THE POLICE       INFO. FOR THE POLICE          126244\n",
       "help         injury_report         ASSAULT IP                 ASSAULT IP                    123405\n",
       "other        other                 SELLING NARCOTICS          SELLING NARCOTICS             119234\n",
       "surveil      general               SPECIAL ATTENTION          SPECIAL ATTENTION             104872\n",
       "             patrol                PARK CHECK [OV]            PARK CHECK [OV]               102770\n",
       "help         noinjury_report       PERSON WITH A GUN          PERSON WITH A GUN             102438\n",
       "surveil      shotspotter           SHOT SPOTTER               SHOT SPOTTER                   94846\n",
       "             general               POD MISSION                POD MISSION                    94846\n",
       "help         noinjury_report       ASSIST CITIZEN             ASSIST CITIZEN                 91566\n",
       "                                   ASSIST CITIZEN (OV)        ASSIST CITIZEN (OV)            89700\n",
       "surveil      patrol                SUSPICIOUS AUTO NO OCC.    SUSPICIOUS AUTO NO OCC.        79457\n",
       "help         noinjury_report       MENTAL HEALTH DISTURBANCE  MENTAL HEALTH DISTURBANCE      78090\n",
       "surveil      patrol                CRIMINAL TRESPASS IP       CRIMINAL TRESPASS IP           77064\n",
       "help         injury_report         PERSON DOWN                PERSON DOWN                    74266\n",
       "             gun                   SHOTS FIRED                SHOTS FIRED                    71365\n",
       "other        other                 SUSPICIOUS AUTO WITH OCC   SUSPICIOUS AUTO WITH OCC       70913\n",
       "surveil      patrol                FOOT PATROL (OV)           FOOT PATROL (OV)               70451\n",
       "help         noinjury_report       AUTO ACCIDENT PI           AUTO ACCIDENT PI               70276\n",
       "other        other                 CRIM DAM. TO PROP RPT      CRIM DAM. TO PROP RPT          68693\n",
       "                                   DECEPTIVE PRAC. REPORT     DECEPTIVE PRAC. REPORT         68111\n",
       "help         noinjury_report       RECKLESS DRIVING           RECKLESS DRIVING               61486\n",
       "other        other                 LOST PROPERTY              LOST PROPERTY                  54853\n",
       "help         injury_report         BATTERY JO                 BATTERY JO                     53541\n",
       "other        other                 FIRE                       FIRE                           53409\n",
       "help         mp                    MISSING PERSON             MISSING PERSON                 52708\n",
       "other        other                 TRANSPORT (OV)             TRANSPORT (OV)                 51754\n",
       "                                   Recovery                   Recovery                       46277\n",
       "                                   MUNICIPAL ORD. VIOLATION   MUNICIPAL ORD. VIOLATION       43822\n",
       "Name: count, dtype: int64"
      ]
     },
     "execution_count": 5,
     "metadata": {},
     "output_type": "execute_result"
    }
   ],
   "source": [
    "oemc[['event_group', 'event_type', 'init_type', 'fin_type']\n",
    "].fillna(\"NO INITIAL TYPE\").value_counts().head(50)"
   ]
  },
  {
   "cell_type": "code",
   "execution_count": 6,
   "id": "9b2b6c67-ee89-4c6b-adc1-80576a362fe5",
   "metadata": {},
   "outputs": [
    {
     "data": {
      "text/plain": [
       "np.int64(11921)"
      ]
     },
     "execution_count": 6,
     "metadata": {},
     "output_type": "execute_result"
    }
   ],
   "source": [
    "oemc.init_type.isna().sum()"
   ]
  },
  {
   "cell_type": "code",
   "execution_count": 7,
   "id": "02c3a2ae-3027-4e04-9939-48ce8060f61c",
   "metadata": {},
   "outputs": [
    {
     "data": {
      "text/plain": [
       "fin_type\n",
       "TRAFFIC STOP (OV)        6429\n",
       "SHOT SPOTTER             2956\n",
       "STREET STOP               533\n",
       "Community Interaction     526\n",
       "DISTURBANCE               164\n",
       "                         ... \n",
       "CHILD LEFT ALONE            1\n",
       "ANIMAL ABUSE                1\n",
       "CRIMINAL TRESPASS IP        1\n",
       "PROSTITUTION                1\n",
       "THEFT JO                    1\n",
       "Name: count, Length: 102, dtype: int64"
      ]
     },
     "execution_count": 7,
     "metadata": {},
     "output_type": "execute_result"
    }
   ],
   "source": [
    "oemc.loc[oemc.init_type.isna(), 'fin_type'].value_counts()"
   ]
  },
  {
   "cell_type": "markdown",
   "id": "3032767b-7486-46ca-9dc3-d3e4bca23c36",
   "metadata": {},
   "source": [
    "# preview data"
   ]
  },
  {
   "cell_type": "code",
   "execution_count": 8,
   "id": "f16c71de-1643-4f9e-968f-029916807a84",
   "metadata": {},
   "outputs": [
    {
     "name": "stdout",
     "output_type": "stream",
     "text": [
      "Q:\tHow many records are in the OEMC dispatch data?\n",
      "A:\t12,159,582 records\n"
     ]
    }
   ],
   "source": [
    "qa = f\"Q:\\tHow many records are in the OEMC dispatch data?\\nA:\\t{oemc.shape[0]:,} records\"\n",
    "print(qa)"
   ]
  },
  {
   "cell_type": "code",
   "execution_count": 9,
   "id": "49cf8382-8780-4be5-9c9b-752ae72851ca",
   "metadata": {},
   "outputs": [
    {
     "data": {
      "text/html": [
       "<div>\n",
       "<style scoped>\n",
       "    .dataframe tbody tr th:only-of-type {\n",
       "        vertical-align: middle;\n",
       "    }\n",
       "\n",
       "    .dataframe tbody tr th {\n",
       "        vertical-align: top;\n",
       "    }\n",
       "\n",
       "    .dataframe thead th {\n",
       "        text-align: right;\n",
       "    }\n",
       "</style>\n",
       "<table border=\"1\" class=\"dataframe\">\n",
       "  <thead>\n",
       "    <tr style=\"text-align: right;\">\n",
       "      <th></th>\n",
       "      <th>2717671</th>\n",
       "    </tr>\n",
       "  </thead>\n",
       "  <tbody>\n",
       "    <tr>\n",
       "      <th>event_no</th>\n",
       "      <td>1831402882</td>\n",
       "    </tr>\n",
       "    <tr>\n",
       "      <th>district</th>\n",
       "      <td>001</td>\n",
       "    </tr>\n",
       "    <tr>\n",
       "      <th>call_date</th>\n",
       "      <td>2018-11-10 06:29:00</td>\n",
       "    </tr>\n",
       "    <tr>\n",
       "      <th>disp_date</th>\n",
       "      <td>2018-11-10 06:29:00</td>\n",
       "    </tr>\n",
       "    <tr>\n",
       "      <th>on_date</th>\n",
       "      <td>2018-11-10 06:35:00</td>\n",
       "    </tr>\n",
       "    <tr>\n",
       "      <th>clear_date</th>\n",
       "      <td>2018-11-10 06:39:00</td>\n",
       "    </tr>\n",
       "    <tr>\n",
       "      <th>close_date</th>\n",
       "      <td>2018-11-10 06:39:00</td>\n",
       "    </tr>\n",
       "    <tr>\n",
       "      <th>init_priority</th>\n",
       "      <td>1A</td>\n",
       "    </tr>\n",
       "    <tr>\n",
       "      <th>init_type</th>\n",
       "      <td>MENTAL HEALTH DISTURBANCE</td>\n",
       "    </tr>\n",
       "    <tr>\n",
       "      <th>fin_type</th>\n",
       "      <td>MENTAL HEALTH DISTURBANCE</td>\n",
       "    </tr>\n",
       "    <tr>\n",
       "      <th>year_called</th>\n",
       "      <td>2018</td>\n",
       "    </tr>\n",
       "    <tr>\n",
       "      <th>date_of_call</th>\n",
       "      <td>2018-11-10</td>\n",
       "    </tr>\n",
       "    <tr>\n",
       "      <th>time_to_dispatch</th>\n",
       "      <td>0 days 00:00:00</td>\n",
       "    </tr>\n",
       "    <tr>\n",
       "      <th>ttd_group</th>\n",
       "      <td>Dispatch under 5 minutes</td>\n",
       "    </tr>\n",
       "    <tr>\n",
       "      <th>dispatch_reported</th>\n",
       "      <td>True</td>\n",
       "    </tr>\n",
       "    <tr>\n",
       "      <th>closure_reported</th>\n",
       "      <td>True</td>\n",
       "    </tr>\n",
       "    <tr>\n",
       "      <th>no_initial_type</th>\n",
       "      <td>False</td>\n",
       "    </tr>\n",
       "    <tr>\n",
       "      <th>numeric_district</th>\n",
       "      <td>1.0</td>\n",
       "    </tr>\n",
       "    <tr>\n",
       "      <th>nonnumeric_district</th>\n",
       "      <td>None</td>\n",
       "    </tr>\n",
       "    <tr>\n",
       "      <th>init_on_view</th>\n",
       "      <td>False</td>\n",
       "    </tr>\n",
       "    <tr>\n",
       "      <th>fin_on_view</th>\n",
       "      <td>False</td>\n",
       "    </tr>\n",
       "    <tr>\n",
       "      <th>event_group</th>\n",
       "      <td>help</td>\n",
       "    </tr>\n",
       "    <tr>\n",
       "      <th>event_type</th>\n",
       "      <td>noinjury_report</td>\n",
       "    </tr>\n",
       "    <tr>\n",
       "      <th>flagged</th>\n",
       "      <td>False</td>\n",
       "    </tr>\n",
       "  </tbody>\n",
       "</table>\n",
       "</div>"
      ],
      "text/plain": [
       "                                       2717671\n",
       "event_no                            1831402882\n",
       "district                                   001\n",
       "call_date                  2018-11-10 06:29:00\n",
       "disp_date                  2018-11-10 06:29:00\n",
       "on_date                    2018-11-10 06:35:00\n",
       "clear_date                 2018-11-10 06:39:00\n",
       "close_date                 2018-11-10 06:39:00\n",
       "init_priority                               1A\n",
       "init_type            MENTAL HEALTH DISTURBANCE\n",
       "fin_type             MENTAL HEALTH DISTURBANCE\n",
       "year_called                               2018\n",
       "date_of_call                        2018-11-10\n",
       "time_to_dispatch               0 days 00:00:00\n",
       "ttd_group             Dispatch under 5 minutes\n",
       "dispatch_reported                         True\n",
       "closure_reported                          True\n",
       "no_initial_type                          False\n",
       "numeric_district                           1.0\n",
       "nonnumeric_district                       None\n",
       "init_on_view                             False\n",
       "fin_on_view                              False\n",
       "event_group                               help\n",
       "event_type                     noinjury_report\n",
       "flagged                                  False"
      ]
     },
     "execution_count": 9,
     "metadata": {},
     "output_type": "execute_result"
    }
   ],
   "source": [
    "oemc.sample().T"
   ]
  },
  {
   "cell_type": "markdown",
   "id": "ee07c1d2-ed34-485c-b342-d1c14293a7c5",
   "metadata": {},
   "source": [
    "# review of data"
   ]
  },
  {
   "cell_type": "markdown",
   "id": "1219652a-f209-434e-b8af-732378d024b8",
   "metadata": {},
   "source": [
    "### all fields"
   ]
  },
  {
   "cell_type": "code",
   "execution_count": 10,
   "id": "a881b243-e0e6-47b5-b6a0-0d94715b609f",
   "metadata": {},
   "outputs": [
    {
     "name": "stdout",
     "output_type": "stream",
     "text": [
      "<class 'pandas.core.frame.DataFrame'>\n",
      "Index: 12159582 entries, 0 to 12159581\n",
      "Data columns (total 24 columns):\n",
      " #   Column               Dtype          \n",
      "---  ------               -----          \n",
      " 0   event_no             object         \n",
      " 1   district             object         \n",
      " 2   call_date            datetime64[ns] \n",
      " 3   disp_date            datetime64[ns] \n",
      " 4   on_date              datetime64[ns] \n",
      " 5   clear_date           datetime64[ns] \n",
      " 6   close_date           datetime64[ns] \n",
      " 7   init_priority        object         \n",
      " 8   init_type            object         \n",
      " 9   fin_type             object         \n",
      " 10  year_called          int32          \n",
      " 11  date_of_call         object         \n",
      " 12  time_to_dispatch     timedelta64[ns]\n",
      " 13  ttd_group            object         \n",
      " 14  dispatch_reported    bool           \n",
      " 15  closure_reported     bool           \n",
      " 16  no_initial_type      bool           \n",
      " 17  numeric_district     float64        \n",
      " 18  nonnumeric_district  object         \n",
      " 19  init_on_view         bool           \n",
      " 20  fin_on_view          bool           \n",
      " 21  event_group          object         \n",
      " 22  event_type           object         \n",
      " 23  flagged              bool           \n",
      "dtypes: bool(6), datetime64[ns](5), float64(1), int32(1), object(10), timedelta64[ns](1)\n",
      "memory usage: 1.7+ GB\n"
     ]
    }
   ],
   "source": [
    "oemc.info()"
   ]
  },
  {
   "cell_type": "code",
   "execution_count": 11,
   "id": "3271e3b5-21c2-42ac-ba06-7067a62a3858",
   "metadata": {},
   "outputs": [
    {
     "name": "stdout",
     "output_type": "stream",
     "text": [
      "Column name:\t`event_no`\n",
      "N non-missing:\t12,159,582\n",
      "N unique:\t12,159,582\n",
      "\n",
      "Column name:\t`district`\n",
      "N non-missing:\t12,159,582\n",
      "N unique:\t55\n",
      "\n",
      "Column name:\t`call_date`\n",
      "N non-missing:\t12,159,582\n",
      "N unique:\t2,039,809\n",
      "\n",
      "Column name:\t`disp_date`\n",
      "N non-missing:\t11,112,631\n",
      "N unique:\t2,023,674\n",
      "\n",
      "Column name:\t`on_date`\n",
      "N non-missing:\t8,518,965\n",
      "N unique:\t1,958,396\n",
      "\n",
      "Column name:\t`clear_date`\n",
      "N non-missing:\t11,103,705\n",
      "N unique:\t2,028,131\n",
      "\n",
      "Column name:\t`close_date`\n",
      "N non-missing:\t12,159,577\n",
      "N unique:\t2,043,149\n",
      "\n",
      "Column name:\t`init_priority`\n",
      "N non-missing:\t12,159,582\n",
      "N unique:\t13\n",
      "\n",
      "Column name:\t`init_type`\n",
      "N non-missing:\t12,147,661\n",
      "N unique:\t335\n",
      "\n",
      "Column name:\t`fin_type`\n",
      "N non-missing:\t12,159,582\n",
      "N unique:\t282\n",
      "\n",
      "Column name:\t`year_called`\n",
      "N non-missing:\t12,159,582\n",
      "N unique:\t4\n",
      "\n",
      "Column name:\t`date_of_call`\n",
      "N non-missing:\t12,159,582\n",
      "N unique:\t1,461\n",
      "\n",
      "Column name:\t`time_to_dispatch`\n",
      "N non-missing:\t11,112,631\n",
      "N unique:\t860\n",
      "\n",
      "Column name:\t`ttd_group`\n",
      "N non-missing:\t12,159,582\n",
      "N unique:\t12\n",
      "\n",
      "Column name:\t`dispatch_reported`\n",
      "N non-missing:\t12,159,582\n",
      "N unique:\t2\n",
      "\n",
      "Column name:\t`closure_reported`\n",
      "N non-missing:\t12,159,582\n",
      "N unique:\t2\n",
      "\n",
      "Column name:\t`no_initial_type`\n",
      "N non-missing:\t12,159,582\n",
      "N unique:\t2\n",
      "\n",
      "Column name:\t`numeric_district`\n",
      "N non-missing:\t11,371,228\n",
      "N unique:\t33\n",
      "\n",
      "Column name:\t`nonnumeric_district`\n",
      "N non-missing:\t788,354\n",
      "N unique:\t23\n",
      "\n",
      "Column name:\t`init_on_view`\n",
      "N non-missing:\t12,159,582\n",
      "N unique:\t2\n",
      "\n",
      "Column name:\t`fin_on_view`\n",
      "N non-missing:\t12,159,582\n",
      "N unique:\t2\n",
      "\n",
      "Column name:\t`event_group`\n",
      "N non-missing:\t12,159,582\n",
      "N unique:\t3\n",
      "\n",
      "Column name:\t`event_type`\n",
      "N non-missing:\t12,159,582\n",
      "N unique:\t12\n",
      "\n",
      "Column name:\t`flagged`\n",
      "N non-missing:\t12,159,582\n",
      "N unique:\t2\n",
      "\n"
     ]
    }
   ],
   "source": [
    "for col in oemc.columns:\n",
    "    print(f\"Column name:\\t`{col}`\")\n",
    "    print(f\"N non-missing:\\t{oemc[col].notna().sum():,}\")\n",
    "    print(f\"N unique:\\t{len(oemc[col].unique()):,}\")\n",
    "    print()"
   ]
  },
  {
   "cell_type": "markdown",
   "id": "32e1b6bd-18cf-479b-ac72-a03d9fc92f5b",
   "metadata": {},
   "source": [
    "### original\n",
    "\n",
    "- not inclusive of every single original field\n",
    "- might have light processing or formatting applied"
   ]
  },
  {
   "cell_type": "code",
   "execution_count": 12,
   "id": "948327e4-6a1f-4089-89c8-1bb254603658",
   "metadata": {},
   "outputs": [
    {
     "data": {
      "text/plain": [
       "count                         12159582\n",
       "mean     2019-12-17 23:36:37.666096384\n",
       "min                2018-01-01 00:00:00\n",
       "25%                2018-12-20 22:14:00\n",
       "50%                2019-11-20 09:53:00\n",
       "75%                2020-12-30 16:09:00\n",
       "max                2021-12-31 23:59:00\n",
       "Name: call_date, dtype: object"
      ]
     },
     "execution_count": 12,
     "metadata": {},
     "output_type": "execute_result"
    }
   ],
   "source": [
    "oemc.call_date.describe()"
   ]
  },
  {
   "cell_type": "code",
   "execution_count": 13,
   "id": "3f294cf6-3831-44b1-9a21-df93fcfcb849",
   "metadata": {},
   "outputs": [
    {
     "data": {
      "text/plain": [
       "district\n",
       "011    767079\n",
       "008    686940\n",
       "006    674354\n",
       "004    640078\n",
       "007    632357\n",
       "025    621355\n",
       "002    601269\n",
       "003    594035\n",
       "012    580341\n",
       "010    567871\n",
       "015    537204\n",
       "001    510360\n",
       "018    502664\n",
       "005    472350\n",
       "009    471412\n",
       "019    455477\n",
       "016    375640\n",
       "024    360724\n",
       "014    348870\n",
       "CW4    336551\n",
       "Name: count, dtype: int64"
      ]
     },
     "execution_count": 13,
     "metadata": {},
     "output_type": "execute_result"
    }
   ],
   "source": [
    "oemc.district.value_counts().head(20)"
   ]
  },
  {
   "cell_type": "code",
   "execution_count": 14,
   "id": "7b5adeba-0f34-457e-bd43-1475dfc65420",
   "metadata": {},
   "outputs": [
    {
     "data": {
      "text/plain": [
       "init_type              fin_type             \n",
       "TRAFFIC STOP (OV)      TRAFFIC STOP (OV)        2612639\n",
       "Community Interaction  Community Interaction     782470\n",
       "DISTURBANCE            DISTURBANCE               541972\n",
       "AUTO ACCIDENT PD       AUTO ACCIDENT PD          452511\n",
       "DOMESTIC DISTURBANCE   DOMESTIC DISTURBANCE      412691\n",
       "MISSION                MISSION                   335607\n",
       "ALARM BURGLAR          ALARM BURGLAR             298438\n",
       "EL CHECK [OV]          EL CHECK [OV]             279423\n",
       "CHECK WELL BEING       CHECK WELL BEING          248942\n",
       "PARKING VIOL. 1        PARKING VIOL. 1           247982\n",
       "Name: count, dtype: int64"
      ]
     },
     "execution_count": 14,
     "metadata": {},
     "output_type": "execute_result"
    }
   ],
   "source": [
    "oemc[['init_type', 'fin_type']].value_counts().head(10)"
   ]
  },
  {
   "cell_type": "code",
   "execution_count": 15,
   "id": "31afb36d-25a6-4135-801c-8fbdb671f7c8",
   "metadata": {},
   "outputs": [
    {
     "data": {
      "text/plain": [
       "init_priority  init_type            \n",
       "3D             TRAFFIC STOP (OV)        2619243\n",
       "4              Community Interaction     782915\n",
       "3B             DISTURBANCE               525177\n",
       "3C             AUTO ACCIDENT PD          440115\n",
       "1A             DOMESTIC DISTURBANCE      416420\n",
       "4              MISSION                   336072\n",
       "2B             ALARM BURGLAR             298772\n",
       "4              EL CHECK [OV]             280298\n",
       "1A             CHECK WELL BEING          250898\n",
       "3D             PARKING VIOL. 1           249208\n",
       "Name: count, dtype: int64"
      ]
     },
     "execution_count": 15,
     "metadata": {},
     "output_type": "execute_result"
    }
   ],
   "source": [
    "oemc[['init_priority', 'init_type']].value_counts().head(10)"
   ]
  },
  {
   "cell_type": "markdown",
   "id": "6d31310d-11ee-415d-a367-c00440bb317a",
   "metadata": {},
   "source": [
    "### added for analysis\n",
    "\n",
    "- might have light processing or formatting applied"
   ]
  },
  {
   "cell_type": "code",
   "execution_count": 16,
   "id": "c5082aa5-d63d-41f3-b745-41e06d4715cf",
   "metadata": {},
   "outputs": [
    {
     "data": {
      "text/plain": [
       "event_group\n",
       "surveil    6025500\n",
       "help       3222865\n",
       "other      2911217\n",
       "Name: count, dtype: int64"
      ]
     },
     "execution_count": 16,
     "metadata": {},
     "output_type": "execute_result"
    }
   ],
   "source": [
    "oemc.event_group.value_counts()"
   ]
  },
  {
   "cell_type": "code",
   "execution_count": 17,
   "id": "8f8a4dd5-e236-46ab-bcd7-5d1b7ff8dce3",
   "metadata": {},
   "outputs": [
    {
     "data": {
      "text/plain": [
       "init_type                  fin_type                 \n",
       "GENERIC (CHANGE PRIORITY)  GENERIC (CHANGE PRIORITY)    14670\n",
       "                           Community Interaction          587\n",
       "                           TRAFFIC STOP (OV)              141\n",
       "                           PARK CHECK [OV]                 60\n",
       "                           PREMISE CHECK [OV]              58\n",
       "                                                        ...  \n",
       "                           BOMB THREAT                      1\n",
       "                           BATTERY JO                       1\n",
       "                           SCHOOL CROSSING                  1\n",
       "                           SEARCH WARRANT                   1\n",
       "                           LOCK OUT                         1\n",
       "Name: count, Length: 111, dtype: int64"
      ]
     },
     "execution_count": 17,
     "metadata": {},
     "output_type": "execute_result"
    }
   ],
   "source": [
    "oemc.loc[oemc.init_type.str.contains(\"GENERIC\", na=False), ['init_type', 'fin_type']].value_counts()"
   ]
  },
  {
   "cell_type": "code",
   "execution_count": 18,
   "id": "be2c6609-4c37-4073-9f29-c83f33240e0a",
   "metadata": {},
   "outputs": [
    {
     "data": {
      "text/plain": [
       "event_type\n",
       "traffic                 3029128\n",
       "other                   2723229\n",
       "noinjury_report         2220862\n",
       "patrol                  2189020\n",
       "injury_report            849986\n",
       "general                  677321\n",
       "shotspotter_reclass?     189363\n",
       "shotspotter               97889\n",
       "gun                       93895\n",
       "mp                        57877\n",
       "hunchlab                  28731\n",
       "licplate                   2281\n",
       "Name: count, dtype: int64"
      ]
     },
     "execution_count": 18,
     "metadata": {},
     "output_type": "execute_result"
    }
   ],
   "source": [
    "oemc.event_type.value_counts()"
   ]
  },
  {
   "cell_type": "code",
   "execution_count": 19,
   "id": "2ca9a266-d94a-4be2-9381-4f583fc6d37b",
   "metadata": {},
   "outputs": [
    {
     "data": {
      "text/plain": [
       "year_called\n",
       "2018    3119334\n",
       "2019    3293586\n",
       "2020    2715865\n",
       "2021    3030797\n",
       "Name: count, dtype: int64"
      ]
     },
     "execution_count": 19,
     "metadata": {},
     "output_type": "execute_result"
    }
   ],
   "source": [
    "oemc.year_called.value_counts().sort_index()"
   ]
  },
  {
   "cell_type": "code",
   "execution_count": 20,
   "id": "d1bce2f6-fde1-45ea-833a-54c3d9801df5",
   "metadata": {},
   "outputs": [
    {
     "data": {
      "text/plain": [
       "count                     11112631\n",
       "mean     0 days 00:05:30.539221539\n",
       "std      0 days 00:17:54.836038658\n",
       "min              -1 days +11:36:00\n",
       "25%                0 days 00:00:00\n",
       "50%                0 days 00:00:00\n",
       "75%                0 days 00:03:00\n",
       "max                4 days 11:52:00\n",
       "Name: time_to_dispatch, dtype: object"
      ]
     },
     "execution_count": 20,
     "metadata": {},
     "output_type": "execute_result"
    }
   ],
   "source": [
    "oemc.time_to_dispatch.describe()"
   ]
  },
  {
   "cell_type": "code",
   "execution_count": 21,
   "id": "a30475ef-1ad3-4ed0-90b7-34baaeec6f97",
   "metadata": {},
   "outputs": [
    {
     "data": {
      "text/plain": [
       "ttd_group\n",
       "Dispatch under 5 minutes      8814501\n",
       "Dispatch under 15 minutes     1202478\n",
       "No dispatch reported          1046951\n",
       "Dispatch under 30 minutes      522303\n",
       "Dispatch under 1 hour          369036\n",
       "Dispatch under 2 hours         169454\n",
       "Dispatch under 6 hours          32407\n",
       "Dispatch under 12 hours          2232\n",
       "Dispatch under 24 hours           119\n",
       "Dispatch before call               81\n",
       "Dispatch under 48 hours            13\n",
       "Dispatch 48 hours or later          7\n",
       "Name: count, dtype: int64"
      ]
     },
     "execution_count": 21,
     "metadata": {},
     "output_type": "execute_result"
    }
   ],
   "source": [
    "oemc.ttd_group.value_counts()"
   ]
  },
  {
   "cell_type": "code",
   "execution_count": 22,
   "id": "b5e1aae6-957b-4fd2-8b93-7592a9d5a636",
   "metadata": {},
   "outputs": [
    {
     "data": {
      "text/plain": [
       "numeric_district\n",
       "11.0     767079\n",
       "8.0      686940\n",
       "6.0      674354\n",
       "4.0      640078\n",
       "7.0      632357\n",
       "25.0     621355\n",
       "2.0      601269\n",
       "3.0      594035\n",
       "12.0     580341\n",
       "10.0     567871\n",
       "15.0     537204\n",
       "1.0      510360\n",
       "18.0     502664\n",
       "5.0      472350\n",
       "9.0      471412\n",
       "19.0     455477\n",
       "16.0     375640\n",
       "24.0     360724\n",
       "14.0     348870\n",
       "17.0     334756\n",
       "22.0     326913\n",
       "20.0     277942\n",
       "31.0      30891\n",
       "21.0        136\n",
       "377.0        56\n",
       "13.0         46\n",
       "177.0        35\n",
       "61.0         33\n",
       "477.0        25\n",
       "41.0         11\n",
       "70.0          3\n",
       "23.0          1\n",
       "Name: count, dtype: int64"
      ]
     },
     "execution_count": 22,
     "metadata": {},
     "output_type": "execute_result"
    }
   ],
   "source": [
    "oemc.numeric_district.value_counts()"
   ]
  },
  {
   "cell_type": "markdown",
   "id": "acd9efa4-2352-42b5-87a5-3d8886e1e24d",
   "metadata": {},
   "source": [
    "# topics\n",
    "\n"
   ]
  },
  {
   "cell_type": "code",
   "execution_count": null,
   "id": "28ca160d-c5aa-4463-adfb-aeb49edff145",
   "metadata": {},
   "outputs": [],
   "source": []
  }
 ],
 "metadata": {
  "kernelspec": {
   "display_name": "Python 3 (ipykernel)",
   "language": "python",
   "name": "python3"
  },
  "language_info": {
   "codemirror_mode": {
    "name": "ipython",
    "version": 3
   },
   "file_extension": ".py",
   "mimetype": "text/x-python",
   "name": "python",
   "nbconvert_exporter": "python",
   "pygments_lexer": "ipython3",
   "version": "3.12.7"
  }
 },
 "nbformat": 4,
 "nbformat_minor": 5
}
