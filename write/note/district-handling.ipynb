{
 "cells": [
  {
   "cell_type": "markdown",
   "id": "a0562d8c-175b-4290-b34c-fa051f445e75",
   "metadata": {},
   "source": [
    "# setup"
   ]
  },
  {
   "cell_type": "code",
   "execution_count": 1,
   "id": "b5b7d3c0-63a3-41b7-adff-6e3090116d0b",
   "metadata": {},
   "outputs": [],
   "source": [
    "# dependencies\n",
    "import pandas as pd"
   ]
  },
  {
   "cell_type": "code",
   "execution_count": 2,
   "id": "b71409c2-5016-4489-b484-799c9396bf65",
   "metadata": {},
   "outputs": [],
   "source": [
    "# support methods"
   ]
  },
  {
   "cell_type": "code",
   "execution_count": 3,
   "id": "8633d81c-235d-4e99-8e60-058a80c0ce1e",
   "metadata": {},
   "outputs": [],
   "source": [
    "# main\n",
    "oemc = pd.read_parquet(\"../../data/OEMC_MP/export/output/oemc-prepped.parquet\")"
   ]
  },
  {
   "cell_type": "code",
   "execution_count": 10,
   "id": "f22925a1-7b0f-4468-a595-206c21a41059",
   "metadata": {},
   "outputs": [],
   "source": [
    "oemc['fishy_district'] = (oemc.numeric_district > 31) | (oemc.nonnumeric_district.notna())"
   ]
  },
  {
   "cell_type": "markdown",
   "id": "32d3e4af-9132-478d-a4c0-efa27fe222ca",
   "metadata": {},
   "source": [
    "# preview"
   ]
  },
  {
   "cell_type": "code",
   "execution_count": 11,
   "id": "7e0d15e3-b6c6-424b-adb2-b73c0014be9c",
   "metadata": {},
   "outputs": [
    {
     "data": {
      "text/html": [
       "<div>\n",
       "<style scoped>\n",
       "    .dataframe tbody tr th:only-of-type {\n",
       "        vertical-align: middle;\n",
       "    }\n",
       "\n",
       "    .dataframe tbody tr th {\n",
       "        vertical-align: top;\n",
       "    }\n",
       "\n",
       "    .dataframe thead th {\n",
       "        text-align: right;\n",
       "    }\n",
       "</style>\n",
       "<table border=\"1\" class=\"dataframe\">\n",
       "  <thead>\n",
       "    <tr style=\"text-align: right;\">\n",
       "      <th></th>\n",
       "      <th>4142475</th>\n",
       "    </tr>\n",
       "  </thead>\n",
       "  <tbody>\n",
       "    <tr>\n",
       "      <th>event_no</th>\n",
       "      <td>1912003714</td>\n",
       "    </tr>\n",
       "    <tr>\n",
       "      <th>district</th>\n",
       "      <td>019</td>\n",
       "    </tr>\n",
       "    <tr>\n",
       "      <th>call_date</th>\n",
       "      <td>2019-04-30 09:00:00</td>\n",
       "    </tr>\n",
       "    <tr>\n",
       "      <th>disp_date</th>\n",
       "      <td>2019-04-30 09:13:00</td>\n",
       "    </tr>\n",
       "    <tr>\n",
       "      <th>on_date</th>\n",
       "      <td>NaT</td>\n",
       "    </tr>\n",
       "    <tr>\n",
       "      <th>clear_date</th>\n",
       "      <td>2019-04-30 09:42:00</td>\n",
       "    </tr>\n",
       "    <tr>\n",
       "      <th>close_date</th>\n",
       "      <td>2019-04-30 09:50:00</td>\n",
       "    </tr>\n",
       "    <tr>\n",
       "      <th>init_priority</th>\n",
       "      <td>1A</td>\n",
       "    </tr>\n",
       "    <tr>\n",
       "      <th>init_type</th>\n",
       "      <td>DEATH REMOVAL</td>\n",
       "    </tr>\n",
       "    <tr>\n",
       "      <th>fin_type</th>\n",
       "      <td>DEATH REMOVAL</td>\n",
       "    </tr>\n",
       "    <tr>\n",
       "      <th>year_called</th>\n",
       "      <td>2019</td>\n",
       "    </tr>\n",
       "    <tr>\n",
       "      <th>date_of_call</th>\n",
       "      <td>2019-04-30</td>\n",
       "    </tr>\n",
       "    <tr>\n",
       "      <th>time_to_dispatch</th>\n",
       "      <td>0 days 00:13:00</td>\n",
       "    </tr>\n",
       "    <tr>\n",
       "      <th>ttd_group</th>\n",
       "      <td>Dispatch under 15 minutes</td>\n",
       "    </tr>\n",
       "    <tr>\n",
       "      <th>dispatch_reported</th>\n",
       "      <td>True</td>\n",
       "    </tr>\n",
       "    <tr>\n",
       "      <th>closure_reported</th>\n",
       "      <td>True</td>\n",
       "    </tr>\n",
       "    <tr>\n",
       "      <th>no_initial_type</th>\n",
       "      <td>False</td>\n",
       "    </tr>\n",
       "    <tr>\n",
       "      <th>numeric_district</th>\n",
       "      <td>19.0</td>\n",
       "    </tr>\n",
       "    <tr>\n",
       "      <th>nonnumeric_district</th>\n",
       "      <td>None</td>\n",
       "    </tr>\n",
       "    <tr>\n",
       "      <th>init_on_view</th>\n",
       "      <td>False</td>\n",
       "    </tr>\n",
       "    <tr>\n",
       "      <th>fin_on_view</th>\n",
       "      <td>False</td>\n",
       "    </tr>\n",
       "    <tr>\n",
       "      <th>event_group</th>\n",
       "      <td>other</td>\n",
       "    </tr>\n",
       "    <tr>\n",
       "      <th>event_type</th>\n",
       "      <td>other</td>\n",
       "    </tr>\n",
       "    <tr>\n",
       "      <th>flagged</th>\n",
       "      <td>False</td>\n",
       "    </tr>\n",
       "    <tr>\n",
       "      <th>fishy_district</th>\n",
       "      <td>False</td>\n",
       "    </tr>\n",
       "  </tbody>\n",
       "</table>\n",
       "</div>"
      ],
      "text/plain": [
       "                                       4142475\n",
       "event_no                            1912003714\n",
       "district                                   019\n",
       "call_date                  2019-04-30 09:00:00\n",
       "disp_date                  2019-04-30 09:13:00\n",
       "on_date                                    NaT\n",
       "clear_date                 2019-04-30 09:42:00\n",
       "close_date                 2019-04-30 09:50:00\n",
       "init_priority                               1A\n",
       "init_type                        DEATH REMOVAL\n",
       "fin_type                         DEATH REMOVAL\n",
       "year_called                               2019\n",
       "date_of_call                        2019-04-30\n",
       "time_to_dispatch               0 days 00:13:00\n",
       "ttd_group            Dispatch under 15 minutes\n",
       "dispatch_reported                         True\n",
       "closure_reported                          True\n",
       "no_initial_type                          False\n",
       "numeric_district                          19.0\n",
       "nonnumeric_district                       None\n",
       "init_on_view                             False\n",
       "fin_on_view                              False\n",
       "event_group                              other\n",
       "event_type                               other\n",
       "flagged                                  False\n",
       "fishy_district                           False"
      ]
     },
     "execution_count": 11,
     "metadata": {},
     "output_type": "execute_result"
    }
   ],
   "source": [
    "oemc.sample().T"
   ]
  },
  {
   "cell_type": "markdown",
   "id": "7e3858af-4d46-4533-8348-ea0b1cc01729",
   "metadata": {},
   "source": [
    "# Frequency of fishy district values"
   ]
  },
  {
   "cell_type": "code",
   "execution_count": 12,
   "id": "925dd24c-9e5f-491d-9e69-991ee5536722",
   "metadata": {},
   "outputs": [
    {
     "data": {
      "text/plain": [
       "numeric_district\n",
       "31.0     30891\n",
       "377.0       56\n",
       "177.0       35\n",
       "61.0        33\n",
       "477.0       25\n",
       "41.0        11\n",
       "70.0         3\n",
       "Name: count, dtype: int64"
      ]
     },
     "execution_count": 12,
     "metadata": {},
     "output_type": "execute_result"
    }
   ],
   "source": [
    "oemc.loc[oemc.numeric_district > 30, 'numeric_district'].value_counts()"
   ]
  },
  {
   "cell_type": "code",
   "execution_count": 13,
   "id": "32d641d0-8c92-415e-b8ab-0fc7fd2ecfa7",
   "metadata": {},
   "outputs": [
    {
     "data": {
      "text/plain": [
       "nonnumeric_district\n",
       "CW4     336551\n",
       "CW5     193666\n",
       "CW1     160144\n",
       "CW3      68998\n",
       "ORD       9614\n",
       "CW2       8546\n",
       "CW7       6708\n",
       "CW6       3563\n",
       "HD         290\n",
       "FD         156\n",
       "PT          53\n",
       "ARS         17\n",
       "OC          14\n",
       "OEM         10\n",
       "TST          7\n",
       "PFDM         5\n",
       "ARP          4\n",
       "PPAG         3\n",
       "SST          2\n",
       "PHN          1\n",
       "F02          1\n",
       "F09          1\n",
       "Name: count, dtype: int64"
      ]
     },
     "execution_count": 13,
     "metadata": {},
     "output_type": "execute_result"
    }
   ],
   "source": [
    "oemc.loc[oemc.nonnumeric_district.notna(), 'nonnumeric_district'].value_counts()"
   ]
  },
  {
   "cell_type": "markdown",
   "id": "912b341a-2a6a-4d53-9cb2-ffea0f0dd0a7",
   "metadata": {},
   "source": [
    "# final list + time covered"
   ]
  },
  {
   "cell_type": "code",
   "execution_count": 14,
   "id": "9f4824ca-4780-41fa-be84-73463dc1f3a2",
   "metadata": {},
   "outputs": [],
   "source": [
    "fishy_districts = oemc.loc[oemc.fishy_district, 'district'].unique()"
   ]
  },
  {
   "cell_type": "code",
   "execution_count": 16,
   "id": "65ceb1d0-2b27-4f73-b2bc-29e8a46454b7",
   "metadata": {},
   "outputs": [
    {
     "name": "stdout",
     "output_type": "stream",
     "text": [
      "- 061\n",
      "- 070\n",
      "- 177\n",
      "- 377\n",
      "- 4100\n",
      "- 477\n",
      "- ARP\n",
      "- ARS\n",
      "- CW1\n",
      "- CW2\n",
      "- CW3\n",
      "- CW4\n",
      "- CW5\n",
      "- CW6\n",
      "- CW7\n",
      "- F02\n",
      "- F09\n",
      "- FD\n",
      "- HD\n",
      "- OC\n",
      "- OEM\n",
      "- ORD\n",
      "- PFDM\n",
      "- PHN\n",
      "- PPAG\n",
      "- PT\n",
      "- SST\n",
      "- TST\n"
     ]
    }
   ],
   "source": [
    "for v in sorted(fishy_districts):\n",
    "    print(f\"- {v}\")"
   ]
  },
  {
   "cell_type": "code",
   "execution_count": 17,
   "id": "2d3f441f-991a-4ce7-9985-f5b4ae065c3b",
   "metadata": {},
   "outputs": [
    {
     "data": {
      "text/plain": [
       "count       12159582\n",
       "unique          1461\n",
       "top       2021-07-04\n",
       "freq           13647\n",
       "Name: date_of_call, dtype: object"
      ]
     },
     "execution_count": 17,
     "metadata": {},
     "output_type": "execute_result"
    }
   ],
   "source": [
    "oemc.date_of_call.describe()"
   ]
  },
  {
   "cell_type": "code",
   "execution_count": 20,
   "id": "22af304b-b27f-41c6-922d-edb7f6cd94b7",
   "metadata": {},
   "outputs": [
    {
     "data": {
      "text/plain": [
       "year_called\n",
       "2018    3,119,334\n",
       "2019    3,293,586\n",
       "2020    2,715,865\n",
       "2021    3,030,797\n",
       "Name: count, dtype: object"
      ]
     },
     "execution_count": 20,
     "metadata": {},
     "output_type": "execute_result"
    }
   ],
   "source": [
    "oemc.year_called.value_counts().sort_index().apply(lambda x: f\"{x:,}\")"
   ]
  },
  {
   "cell_type": "markdown",
   "id": "c7b082dd-e3f9-447d-8311-89e38c9d9417",
   "metadata": {},
   "source": [
    "# Resulting FOIA request\n",
    "\n",
    "I have previously requested and received emergency event data from OEMC covering 2018-2021 and am now requesting clarification about values I observe in the data so that I can make the appropriate data handling decisions.\n",
    "\n",
    "The emergency events in the data each have an assigned \"district\" value which, because police are the most common agency dispatched, I assume refer to the police districts in the city's data portal (https://data.cityofchicago.org/Public-Safety/Boundaries-Police-Districts-current-/fthy-xz3r).\n",
    "\n",
    "The district values in the data portal are all numeric and less than 35, but the following values appear in the OEMC data and do not match a district in the city portal or this pattern:\n",
    "- 061\n",
    "- 070\n",
    "- 177\n",
    "- 377\n",
    "- 4100\n",
    "- 477\n",
    "- ARP\n",
    "- ARS\n",
    "- CW1\n",
    "- CW2\n",
    "- CW3\n",
    "- CW4\n",
    "- CW5\n",
    "- CW6\n",
    "- CW7\n",
    "- F02\n",
    "- F09\n",
    "- FD\n",
    "- HD\n",
    "- OC\n",
    "- OEM\n",
    "- ORD\n",
    "- PFDM\n",
    "- PHN\n",
    "- PPAG\n",
    "- PT\n",
    "- SST\n",
    "- TST\n",
    "\n",
    "Please provide clarification on these district values observed in the OEMC data. Let me know if I am comparing to the wrong city boundaries and these all appear in another city dataset, or if each of these match up to an existing police district and I should correct them in the data. If I should correct them, please advise what each value should be changed to.\n",
    "\n",
    "Thank you for your time."
   ]
  },
  {
   "cell_type": "code",
   "execution_count": null,
   "id": "b65e17d2-d149-405c-b5bb-980a004ac9ff",
   "metadata": {},
   "outputs": [],
   "source": []
  }
 ],
 "metadata": {
  "kernelspec": {
   "display_name": "Python 3 (ipykernel)",
   "language": "python",
   "name": "python3"
  },
  "language_info": {
   "codemirror_mode": {
    "name": "ipython",
    "version": 3
   },
   "file_extension": ".py",
   "mimetype": "text/x-python",
   "name": "python",
   "nbconvert_exporter": "python",
   "pygments_lexer": "ipython3",
   "version": "3.12.7"
  }
 },
 "nbformat": 4,
 "nbformat_minor": 5
}
