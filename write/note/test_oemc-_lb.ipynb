{
 "cells": [
  {
   "cell_type": "markdown",
   "id": "bedf99d5-2386-4249-afdf-dfa65cc7278f",
   "metadata": {},
   "source": [
    "# Plan\n",
    "\\\n",
    "Steps:\n",
    "- (If applicable) Select `event_type` to study (gunfire, mp, one more?) and filter for those records\n",
    "- Select subset of all `district`s to consider\n",
    "    - 5 selections + Other? So 6 total?\n",
    "    - I think there are a few named in the \"analyze_oemc\" notebook\n",
    "- Group by `district` (the raw version from OEMC? Using `numeric_district` atm)\n",
    "- Calculate the rate of non-missing `disp_date` values per group (should be an indicator setup for this already)\n",
    "- Test the observed rate of non-missing dispatch dates per district for this emergency type against the assumption / null hypothesis that dispatch is reported at equal rates for all districts\n",
    "    - Per the `power_divergence` docs, if we do not supply an argument for f_exp (expected frequencies), “the categories are assumed to be equally likely.” So we don’t have to calculate that\n",
    "\n",
    "\n",
    "On districts chosen,\n",
    "- Trina had recommended looking for districts ['2', '8', '9', '19', '20', '24'] when we looked at [MP districts](https://github.com/HRDAG/US-II-MP/blob/main/individual/MP_CPD/explore/note/districts-plots.ipynb)\n",
    "- [District map](https://news.wttw.com/sites/default/files/Chicago%20Police%20Districts.pdf) from LB's perplexity query\n",
    "- Here we've selected\n",
    "    - 2\n",
    "    - 7 (district 7 includes Englewood per WTTW map and has 5th highest event count)\n",
    "    - 8 (district 8 has the 2nd highest event count)\n",
    "    - 9\n",
    "    - 19\n",
    "    - 20\n",
    "    - 24\n",
    "- and all other districts are grouped as \"Other\"\n",
    "\n",
    "Resources:\n",
    "- [write-declaration](https://github.com/HRDAG/SF-PDO-RJA/blob/main/write/memos/DA/ACLU/src/write-declaration.py) has chi-square tests I used in RJA declarations"
   ]
  },
  {
   "cell_type": "markdown",
   "id": "d12e265d-94f0-46fe-b9c6-e1ddff692f40",
   "metadata": {},
   "source": [
    "# setup"
   ]
  },
  {
   "cell_type": "code",
   "execution_count": 1,
   "id": "b8c461f2-a1ce-4e67-95e6-1564fc8f7a34",
   "metadata": {},
   "outputs": [],
   "source": [
    "# dependencies\n",
    "import yaml\n",
    "import pandas as pd\n",
    "from scipy.stats import chisquare, power_divergence"
   ]
  },
  {
   "cell_type": "code",
   "execution_count": 2,
   "id": "4153d5e6-5da3-4b86-9b1a-49a4f4178124",
   "metadata": {},
   "outputs": [],
   "source": [
    "# support methods\n",
    "def readyaml(fname):\n",
    "    with open(fname, \"r\") as f:\n",
    "        rules = yaml.safe_load(f)\n",
    "    return rules\n",
    "\n",
    "\n",
    "def regroup_td(td):\n",
    "    if td < pd.Timedelta(minutes=5): return 'Under 5 min'\n",
    "    elif td < pd.Timedelta(minutes=15): return 'Under 15 min'\n",
    "    elif td < pd.Timedelta(minutes=30): return 'Under 30 min'\n",
    "    elif td < pd.Timedelta(minutes=60): return 'Under 60 min'\n",
    "    elif td >= pd.Timedelta(minutes=60): return 'Over 60 min'\n",
    "\n",
    "\n",
    "def format_longfloat(prop, asperc=False):\n",
    "    if not asperc: return float(f'{prop:.3f}')\n",
    "    else: return float(f'{prop*100:.1f}')\n",
    "\n",
    "\n",
    "def lookup_cramer_cat(msrmt, df):\n",
    "    if df == 1:\n",
    "        if msrmt <= 0.1: return 'small'\n",
    "        elif msrmt <= 0.3: return 'medium'\n",
    "        else: return 'large'\n",
    "    elif df == 2:\n",
    "        if msrmt <= 0.07: return 'small'\n",
    "        elif msrmt <= 0.21: return 'medium'\n",
    "        else: return 'large'\n",
    "    elif df == 3:\n",
    "        if msrmt <= 0.06: return 'small'\n",
    "        elif msrmt <= 0.17: return 'medium'\n",
    "        else: return 'large'\n",
    "    elif df == 4:\n",
    "        if msrmt <= 0.05: return 'small'\n",
    "        elif msrmt <= 0.15: return 'medium'\n",
    "        else: return 'large'\n",
    "    elif df == 5:\n",
    "        if msrmt <= 0.04: return 'small'\n",
    "        elif msrmt <= 0.13: return 'medium'\n",
    "        else: return 'large'\n",
    "\n",
    "\n",
    "def cramers(stat, n, df):\n",
    "    msrmt = np.sqrt(stat/(n*df))\n",
    "    cat = lookup_cramer_cat(msrmt=msrmt, df=df)\n",
    "    return format_longfloat(msrmt), cat\n",
    "\n",
    "\n",
    "def text_statistic(pcs, sig, n, dof, null_phrase, exp=None):\n",
    "    rounded_stat = format_longfloat(pcs.statistic)\n",
    "    rounded_pval = format_longfloat(pcs.pvalue)\n",
    "    if rounded_pval == 0: rounded_pval = \"< 0.0001\"\n",
    "    if exp: newinfo = f\"\\nThis test results in a p-value of {rounded_pval}, \"\n",
    "    else: newinfo = f\"\\nThis test results in a p-value of {rounded_pval}, \"\n",
    "    if pcs.pvalue < sig:\n",
    "        effect_size, effect_cat = cramers(pcs.statistic, n, dof)\n",
    "        newinfo += f\"which is a statistically significant difference and rejects the null hypothesis that {null_phrase}. The test indicates a {effect_cat} effect. \"\n",
    "    else: newinfo += f\"which is not statistically significant and fails to reject the null hypothesis that {null_phrase}. \"\n",
    "    if n < 30: newinfo += f\"However, the sample size of {n} is small.\"\n",
    "    return newinfo\n",
    "\n",
    "\n",
    "def get_chisquare_overall(df, districts, sig=0.05, ddof=0):\n",
    "    assert 'dispatch_reported' in df.columns\n",
    "    sample_size = df.dispatch_reported.sum() # is this right? or should it be df.shape[0]?\n",
    "    obs_n = [df.loc[df.numeric_district == district, 'dispatch_reported'].sum()/sample_size\n",
    "             for district in districts]\n",
    "    dof = len(districts) - 1 - ddof\n",
    "    #nobs = sum(obs_n) # why use this and not sample_size?\n",
    "    pcs = power_divergence(f_obs=obs_n, ddof=ddof, lambda_ = \"pearson\")\n",
    "    chi_info = f\"\"\"This test will compare whether observed dispatch rates are equal across districts. In interpreting the results, a p-value below {sig} will be considered statistically significant. In such cases where the p-value is statistically significant, the effect size will be measured and categorized as small, medium, or large.\\n\"\"\"\n",
    "    suppinfo = text_statistic(pcs, sig=sig, n=sample_size, dof=dof,\n",
    "                             null_phrase=f\"the distribution by district of emergency events with a reported dispatch date are equal\")\n",
    "    info = chi_info + suppinfo + \"\\n\\n\\n\"\n",
    "    return obs_n, pcs, info\n",
    "\n",
    "\n",
    "def get_chisquare_event(df, districts, eventtype, sig=0.05, ddof=0):\n",
    "    assert 'dispatch_reported' in df.columns\n",
    "    sample_size = df.loc[(df.dispatch_reported) & (df.event_type == eventtype)].shape[0] # is this right? or should it be df.shape[0]?\n",
    "    obs_n = [df.loc[(df.numeric_district == district) & (df.event_type == eventtype),\n",
    "             'dispatch_reported'].sum()/sample_size\n",
    "             for district in districts]\n",
    "    dof = len(districts) - 1 - ddof\n",
    "    #nobs = sum(obs_n) # why use this and not sample_size?\n",
    "    pcs = power_divergence(f_obs=obs_n, ddof=ddof, lambda_ = \"pearson\")\n",
    "    chi_info = f\"\"\"This test will compare whether observed dispatch rates for reported {eventtype} events are equal across districts. In interpreting the results, a p-value below {sig} will be considered statistically significant. In such cases where the p-value is statistically significant, the effect size will be measured and categorized as small, medium, or large.\\n\"\"\"\n",
    "    suppinfo = text_statistic(pcs, sig=sig, n=sample_size, dof=dof,\n",
    "                             null_phrase=f\"the distribution by district of reported {eventtype} events with a reported dispatch date are equal\")\n",
    "    info = chi_info + suppinfo + \"\\n\\n\\n\"\n",
    "    return obs_n, pcs, info"
   ]
  },
  {
   "cell_type": "code",
   "execution_count": 4,
   "id": "f0303868-13f9-4afd-b18f-0928776dc81e",
   "metadata": {},
   "outputs": [],
   "source": [
    "# main\n",
    "oemc = pd.read_parquet(\"../../data/OEMC_MP/export/output/oemc-prepped.parquet\")\n",
    "rules = readyaml(\"../../data/shared/hand/keywords.yml\")\n",
    "assert oemc.shape[0] > 12000000\n",
    "assert not oemc.event_no.duplicated().any()\n",
    "assert (oemc.dispatch_reported == 0).sum() == oemc.time_to_dispatch.isna().sum()"
   ]
  },
  {
   "cell_type": "markdown",
   "id": "041fe252-3e0f-4724-8108-2c20b5ef4098",
   "metadata": {},
   "source": [
    "# preview data"
   ]
  },
  {
   "cell_type": "code",
   "execution_count": 4,
   "id": "ba32c706-4c77-494c-9999-79d6a826d906",
   "metadata": {},
   "outputs": [
    {
     "data": {
      "text/plain": [
       "{'gun': ['SHOTS FIRED', 'PERSON SHOT'],\n",
       " 'mp': ['CHILD ABDUCTION', 'MISSING PER. TENDER AGE', 'MISSING PERSON'],\n",
       " 'injury_report': ['PERSON DOWN',\n",
       "  'INJURED PERSON REPORT',\n",
       "  'CHILD ABUSE',\n",
       "  'DOMESTIC BATTERY',\n",
       "  'BATTERY',\n",
       "  'ASSAULT',\n",
       "  'EMS'],\n",
       " 'noinjury_report': ['PERSON WITH A GUN',\n",
       "  'PERSON CALLING FOR HELP',\n",
       "  'ASSIST CITIZEN',\n",
       "  'CHILD LEFT ALONE',\n",
       "  'CHECK WELL BEING',\n",
       "  'VIOLATION ORDER OF PROT',\n",
       "  'MENTAL HEALTH DISTURBANCE',\n",
       "  'DOMESTIC DISTURBANCE',\n",
       "  'ALARM BURGLAR',\n",
       "  'THEFT REPORT',\n",
       "  'AUTO ACCIDENT PD',\n",
       "  'AUTO ACCIDENT PI',\n",
       "  'RECKLESS DRIVING']}"
      ]
     },
     "execution_count": 4,
     "metadata": {},
     "output_type": "execute_result"
    }
   ],
   "source": [
    "rules['help']"
   ]
  },
  {
   "cell_type": "code",
   "execution_count": 5,
   "id": "cce9e22f-d0e0-4aff-8738-d92d2d8b1d60",
   "metadata": {},
   "outputs": [
    {
     "data": {
      "text/html": [
       "<div>\n",
       "<style scoped>\n",
       "    .dataframe tbody tr th:only-of-type {\n",
       "        vertical-align: middle;\n",
       "    }\n",
       "\n",
       "    .dataframe tbody tr th {\n",
       "        vertical-align: top;\n",
       "    }\n",
       "\n",
       "    .dataframe thead th {\n",
       "        text-align: right;\n",
       "    }\n",
       "</style>\n",
       "<table border=\"1\" class=\"dataframe\">\n",
       "  <thead>\n",
       "    <tr style=\"text-align: right;\">\n",
       "      <th></th>\n",
       "      <th>9940018</th>\n",
       "    </tr>\n",
       "  </thead>\n",
       "  <tbody>\n",
       "    <tr>\n",
       "      <th>event_no</th>\n",
       "      <td>2110504845</td>\n",
       "    </tr>\n",
       "    <tr>\n",
       "      <th>district</th>\n",
       "      <td>019</td>\n",
       "    </tr>\n",
       "    <tr>\n",
       "      <th>call_date</th>\n",
       "      <td>2021-04-15 10:47:00</td>\n",
       "    </tr>\n",
       "    <tr>\n",
       "      <th>disp_date</th>\n",
       "      <td>2021-04-15 10:50:00</td>\n",
       "    </tr>\n",
       "    <tr>\n",
       "      <th>on_date</th>\n",
       "      <td>NaT</td>\n",
       "    </tr>\n",
       "    <tr>\n",
       "      <th>clear_date</th>\n",
       "      <td>2021-04-15 11:36:00</td>\n",
       "    </tr>\n",
       "    <tr>\n",
       "      <th>close_date</th>\n",
       "      <td>2021-04-15 11:36:00</td>\n",
       "    </tr>\n",
       "    <tr>\n",
       "      <th>init_priority</th>\n",
       "      <td>1A</td>\n",
       "    </tr>\n",
       "    <tr>\n",
       "      <th>init_type</th>\n",
       "      <td>CHECK WELL BEING</td>\n",
       "    </tr>\n",
       "    <tr>\n",
       "      <th>fin_type</th>\n",
       "      <td>CHECK WELL BEING</td>\n",
       "    </tr>\n",
       "    <tr>\n",
       "      <th>year_called</th>\n",
       "      <td>2021</td>\n",
       "    </tr>\n",
       "    <tr>\n",
       "      <th>date_of_call</th>\n",
       "      <td>2021-04-15</td>\n",
       "    </tr>\n",
       "    <tr>\n",
       "      <th>time_to_dispatch</th>\n",
       "      <td>0 days 00:03:00</td>\n",
       "    </tr>\n",
       "    <tr>\n",
       "      <th>ttd_group</th>\n",
       "      <td>Dispatch under 5 minutes</td>\n",
       "    </tr>\n",
       "    <tr>\n",
       "      <th>dispatch_reported</th>\n",
       "      <td>True</td>\n",
       "    </tr>\n",
       "    <tr>\n",
       "      <th>closure_reported</th>\n",
       "      <td>True</td>\n",
       "    </tr>\n",
       "    <tr>\n",
       "      <th>no_initial_type</th>\n",
       "      <td>False</td>\n",
       "    </tr>\n",
       "    <tr>\n",
       "      <th>numeric_district</th>\n",
       "      <td>19.0</td>\n",
       "    </tr>\n",
       "    <tr>\n",
       "      <th>nonnumeric_district</th>\n",
       "      <td>None</td>\n",
       "    </tr>\n",
       "    <tr>\n",
       "      <th>init_on_view</th>\n",
       "      <td>False</td>\n",
       "    </tr>\n",
       "    <tr>\n",
       "      <th>fin_on_view</th>\n",
       "      <td>False</td>\n",
       "    </tr>\n",
       "    <tr>\n",
       "      <th>event_group</th>\n",
       "      <td>help</td>\n",
       "    </tr>\n",
       "    <tr>\n",
       "      <th>event_type</th>\n",
       "      <td>noinjury_report</td>\n",
       "    </tr>\n",
       "    <tr>\n",
       "      <th>flagged</th>\n",
       "      <td>False</td>\n",
       "    </tr>\n",
       "  </tbody>\n",
       "</table>\n",
       "</div>"
      ],
      "text/plain": [
       "                                      9940018\n",
       "event_no                           2110504845\n",
       "district                                  019\n",
       "call_date                 2021-04-15 10:47:00\n",
       "disp_date                 2021-04-15 10:50:00\n",
       "on_date                                   NaT\n",
       "clear_date                2021-04-15 11:36:00\n",
       "close_date                2021-04-15 11:36:00\n",
       "init_priority                              1A\n",
       "init_type                    CHECK WELL BEING\n",
       "fin_type                     CHECK WELL BEING\n",
       "year_called                              2021\n",
       "date_of_call                       2021-04-15\n",
       "time_to_dispatch              0 days 00:03:00\n",
       "ttd_group            Dispatch under 5 minutes\n",
       "dispatch_reported                        True\n",
       "closure_reported                         True\n",
       "no_initial_type                         False\n",
       "numeric_district                         19.0\n",
       "nonnumeric_district                      None\n",
       "init_on_view                            False\n",
       "fin_on_view                             False\n",
       "event_group                              help\n",
       "event_type                    noinjury_report\n",
       "flagged                                 False"
      ]
     },
     "execution_count": 5,
     "metadata": {},
     "output_type": "execute_result"
    }
   ],
   "source": [
    "oemc.sample().T"
   ]
  },
  {
   "cell_type": "markdown",
   "id": "ac6f0042-822e-44c2-b8d3-80cf0ebe1a59",
   "metadata": {},
   "source": [
    "# light prep"
   ]
  },
  {
   "cell_type": "code",
   "execution_count": 6,
   "id": "c5d0acba-aaf4-45ea-86e3-1430a04eaa9b",
   "metadata": {},
   "outputs": [],
   "source": [
    "# not sure if this is a useful alternative to what we already have in `ttd_group`\n",
    "#oemc['ttd_group_short'] = oemc.time_to_dispatch.apply(regroup_td)"
   ]
  },
  {
   "cell_type": "code",
   "execution_count": 5,
   "id": "e1a3c139-c66f-4e55-87a7-cecf198297b9",
   "metadata": {},
   "outputs": [],
   "source": [
    "maincols = [\n",
    "    'event_no', 'district', 'numeric_district',\n",
    "    'call_date', 'year_called',\n",
    "    'dispatch_reported', 'disp_date',\n",
    "    'time_to_dispatch', 'ttd_group', #'ttd_group_short',\n",
    "    'init_priority', 'init_type', 'fin_type',\n",
    "    'event_group', 'event_type'\n",
    "]\n",
    "less = oemc[maincols].copy()\n",
    "assert not less.event_no.duplicated().any()\n",
    "#less['dispatch_oncall'] = less.call_date == less.disp_date\n",
    "#less['dispatch_under5min'] = less.time_to_dispatch < pd.Timedelta(minutes=5)\n",
    "#less['dispatch_under15min'] = less.time_to_dispatch < pd.Timedelta(minutes=15)\n",
    "#less['dispatch_under30min'] = less.time_to_dispatch < pd.Timedelta(minutes=30)\n",
    "#less['dispatch_under60min'] = less.time_to_dispatch < pd.Timedelta(minutes=60)\n",
    "#less['dispatch_under2hr'] = less.time_to_dispatch < pd.Timedelta(minutes=120)\n",
    "#less['dispatch_under24hr'] = less.time_to_dispatch < pd.Timedelta(days=1)\n",
    "#less['dispatch_over24hr'] = less.time_to_dispatch >= pd.Timedelta(days=1)\n",
    "#less['event_mp'] = less.event_type == 'mp'\n",
    "#less['event_shotspotter'] = less.event_type == 'shotspotter'\n",
    "#less['event_gun'] = less.event_type == 'gun'\n",
    "#less['event_traffic'] = less.event_type == 'traffic'\n",
    "#less['event_help'] = less.event_group == 'help'"
   ]
  },
  {
   "cell_type": "markdown",
   "id": "95928e5d-f974-430b-95ee-82a0f2a37b94",
   "metadata": {},
   "source": [
    "# stage focus"
   ]
  },
  {
   "cell_type": "code",
   "execution_count": 6,
   "id": "b5c2caa3-a4f4-4e6b-b4ed-7339a2534522",
   "metadata": {},
   "outputs": [],
   "source": [
    "districts = [\n",
    "    2,\n",
    "    7, # district 7 includes Englewood per WTTW map and has 5th highest event count\n",
    "    8, # district 8 has the 2nd highest event count\n",
    "    9,\n",
    "    19,\n",
    "    20,\n",
    "    24\n",
    "]\n",
    "for num in districts:\n",
    "    less[f'district_{num}'] = less.numeric_district == num\n",
    "less['district_other'] = ~less.numeric_district.isin(districts)\n",
    "distinds = [\n",
    "    'district_2', 'district_7', 'district_8', 'district_9',\n",
    "    'district_19', 'district_20', 'district_24', 'district_other']"
   ]
  },
  {
   "cell_type": "code",
   "execution_count": 7,
   "id": "0db7b913-4553-4d2a-92bf-0ef209753086",
   "metadata": {},
   "outputs": [
    {
     "data": {
      "text/plain": [
       "district_2         601269\n",
       "district_7         632357\n",
       "district_8         686940\n",
       "district_9         471412\n",
       "district_19        455477\n",
       "district_20        277942\n",
       "district_24        360724\n",
       "district_other    8673461\n",
       "dtype: int64"
      ]
     },
     "execution_count": 7,
     "metadata": {},
     "output_type": "execute_result"
    }
   ],
   "source": [
    "less[distinds].sum()"
   ]
  },
  {
   "cell_type": "markdown",
   "id": "5bafa19a-053a-439b-ba44-bc5cea9f38a6",
   "metadata": {},
   "source": [
    "# chi-square tests"
   ]
  },
  {
   "cell_type": "code",
   "execution_count": 8,
   "id": "2dfa95cb-053a-4e96-8fff-5514a92638e6",
   "metadata": {},
   "outputs": [],
   "source": [
    "overall_obs_n, overall_pcs, overall_info = get_chisquare_overall(df=oemc, districts=districts, sig=0.05, ddof=0)"
   ]
  },
  {
   "cell_type": "code",
   "execution_count": 28,
   "id": "113c52c6-f3f3-43d6-9ad0-bd5077d3cfaa",
   "metadata": {},
   "outputs": [
    {
     "data": {
      "text/plain": [
       "[np.float64(0.0508177586387958),\n",
       " np.float64(0.05353844647590656),\n",
       " np.float64(0.05596415466328361),\n",
       " np.float64(0.039526643150483445),\n",
       " np.float64(0.03540925636782145),\n",
       " np.float64(0.02289682794290569),\n",
       " np.float64(0.02921837321872741)]"
      ]
     },
     "execution_count": 28,
     "metadata": {},
     "output_type": "execute_result"
    }
   ],
   "source": [
    "overall_obs_n"
   ]
  },
  {
   "cell_type": "code",
   "execution_count": 29,
   "id": "5e65a8dc-4145-4aec-b186-a9f08c46038b",
   "metadata": {},
   "outputs": [
    {
     "data": {
      "text/plain": [
       "Power_divergenceResult(statistic=np.float64(0.023809817415844422), pvalue=np.float64(0.9999997212913578))"
      ]
     },
     "execution_count": 29,
     "metadata": {},
     "output_type": "execute_result"
    }
   ],
   "source": [
    "overall_pcs"
   ]
  },
  {
   "cell_type": "code",
   "execution_count": 30,
   "id": "bf48bbb8-27ae-4bb8-a195-c51e26ddd3f1",
   "metadata": {},
   "outputs": [
    {
     "name": "stdout",
     "output_type": "stream",
     "text": [
      "This test will compare whether observed dispatch rates are equal across districts. In interpreting the results, a p-value below 0.05 will be considered statistically significant. In such cases where the p-value is statistically significant, the effect size will be measured and categorized as small, medium, or large.\n",
      "\n",
      "This test results in a p-value of 1.0, which is not statistically significant and fails to reject the null hypothesis that the distribution by district of emergency events with a reported dispatch date are equal. \n",
      "\n",
      "\n",
      "\n"
     ]
    }
   ],
   "source": [
    "print(overall_info)"
   ]
  },
  {
   "cell_type": "code",
   "execution_count": 31,
   "id": "12025740-626f-4c91-a134-9cdca956c12a",
   "metadata": {},
   "outputs": [],
   "source": [
    "shotspotter_obs_n, shotspotter_pcs, shotspotter_info = get_chisquare_event(df=oemc, districts=districts, eventtype='shotspotter', sig=0.05, ddof=0)"
   ]
  },
  {
   "cell_type": "code",
   "execution_count": 32,
   "id": "d75d6926-8138-4d2f-9039-b4938e1f1517",
   "metadata": {},
   "outputs": [
    {
     "data": {
      "text/plain": [
       "[np.float64(0.03775262071643133),\n",
       " np.float64(0.08862414941659685),\n",
       " np.float64(0.09114780227639618),\n",
       " np.float64(0.08025624782884117),\n",
       " np.float64(5.1086090279338745e-05),\n",
       " np.float64(2.0434436111735498e-05),\n",
       " np.float64(3.065165416760325e-05)]"
      ]
     },
     "execution_count": 32,
     "metadata": {},
     "output_type": "execute_result"
    }
   ],
   "source": [
    "shotspotter_obs_n"
   ]
  },
  {
   "cell_type": "code",
   "execution_count": 33,
   "id": "1289e5e4-ce50-4c53-9f5e-1b7c4f2c159b",
   "metadata": {},
   "outputs": [
    {
     "data": {
      "text/plain": [
       "Power_divergenceResult(statistic=np.float64(0.2667663628379198), pvalue=np.float64(0.9996420253873786))"
      ]
     },
     "execution_count": 33,
     "metadata": {},
     "output_type": "execute_result"
    }
   ],
   "source": [
    "shotspotter_pcs"
   ]
  },
  {
   "cell_type": "code",
   "execution_count": 34,
   "id": "c6d636d4-9f2b-425b-87fa-0551e0f966f9",
   "metadata": {},
   "outputs": [
    {
     "name": "stdout",
     "output_type": "stream",
     "text": [
      "This test will compare whether observed dispatch rates for reported shotspotter events are equal across districts. In interpreting the results, a p-value below 0.05 will be considered statistically significant. In such cases where the p-value is statistically significant, the effect size will be measured and categorized as small, medium, or large.\n",
      "\n",
      "This test results in a p-value of 1.0, which is not statistically significant and fails to reject the null hypothesis that the distribution by district of reported shotspotter events with a reported dispatch date are equal. \n",
      "\n",
      "\n",
      "\n"
     ]
    }
   ],
   "source": [
    "print(shotspotter_info)"
   ]
  },
  {
   "cell_type": "code",
   "execution_count": 35,
   "id": "9c43827c-84ac-4d52-a357-2e8a6b4b68d6",
   "metadata": {},
   "outputs": [],
   "source": [
    "gun_obs_n, gun_pcs, gun_info = get_chisquare_event(df=oemc, districts=districts, eventtype='gun', sig=0.05, ddof=0)"
   ]
  },
  {
   "cell_type": "code",
   "execution_count": 36,
   "id": "5ee1238c-4fe0-4b18-8788-9db5f5fc5327",
   "metadata": {},
   "outputs": [
    {
     "data": {
      "text/plain": [
       "[np.float64(0.039815496972997216),\n",
       " np.float64(0.06347630182474348),\n",
       " np.float64(0.05987806570784885),\n",
       " np.float64(0.059205398421901194),\n",
       " np.float64(0.01991308711575216),\n",
       " np.float64(0.013592150079545576),\n",
       " np.float64(0.03204245277982425)]"
      ]
     },
     "execution_count": 36,
     "metadata": {},
     "output_type": "execute_result"
    }
   ],
   "source": [
    "gun_obs_n"
   ]
  },
  {
   "cell_type": "code",
   "execution_count": 37,
   "id": "c9f4c5b8-0fe2-4425-82f8-1ac374e20bf7",
   "metadata": {},
   "outputs": [
    {
     "data": {
      "text/plain": [
       "Power_divergenceResult(statistic=np.float64(0.06005976282448802), pvalue=np.float64(0.9999955869830262))"
      ]
     },
     "execution_count": 37,
     "metadata": {},
     "output_type": "execute_result"
    }
   ],
   "source": [
    "gun_pcs"
   ]
  },
  {
   "cell_type": "code",
   "execution_count": 38,
   "id": "68135020-2927-406c-87f7-fb1e3435a52e",
   "metadata": {},
   "outputs": [
    {
     "name": "stdout",
     "output_type": "stream",
     "text": [
      "This test will compare whether observed dispatch rates for reported gun events are equal across districts. In interpreting the results, a p-value below 0.05 will be considered statistically significant. In such cases where the p-value is statistically significant, the effect size will be measured and categorized as small, medium, or large.\n",
      "\n",
      "This test results in a p-value of 1.0, which is not statistically significant and fails to reject the null hypothesis that the distribution by district of reported gun events with a reported dispatch date are equal. \n",
      "\n",
      "\n",
      "\n"
     ]
    }
   ],
   "source": [
    "print(gun_info)"
   ]
  },
  {
   "cell_type": "code",
   "execution_count": 39,
   "id": "6cc63f90-4f6a-49ed-91fd-e8c7b684cc73",
   "metadata": {},
   "outputs": [],
   "source": [
    "mp_obs_n, mp_pcs, mp_info = get_chisquare_event(df=oemc, districts=districts, eventtype='mp', sig=0.05, ddof=0)"
   ]
  },
  {
   "cell_type": "code",
   "execution_count": 40,
   "id": "1c040a92-38a2-4786-a77e-219e739d0493",
   "metadata": {},
   "outputs": [
    {
     "data": {
      "text/plain": [
       "[np.float64(0.04701279097481528),\n",
       " np.float64(0.06389528879002145),\n",
       " np.float64(0.047807261460236755),\n",
       " np.float64(0.03630730118376102),\n",
       " np.float64(0.03398347501390323),\n",
       " np.float64(0.07084690553745929),\n",
       " np.float64(0.09154286168268849)]"
      ]
     },
     "execution_count": 40,
     "metadata": {},
     "output_type": "execute_result"
    }
   ],
   "source": [
    "mp_obs_n"
   ]
  },
  {
   "cell_type": "code",
   "execution_count": 41,
   "id": "119d31a5-1efd-4fc8-8541-404ec5f2eb14",
   "metadata": {},
   "outputs": [
    {
     "data": {
      "text/plain": [
       "Power_divergenceResult(statistic=np.float64(0.04589983885706685), pvalue=np.float64(0.9999980197443001))"
      ]
     },
     "execution_count": 41,
     "metadata": {},
     "output_type": "execute_result"
    }
   ],
   "source": [
    "mp_pcs"
   ]
  },
  {
   "cell_type": "code",
   "execution_count": 42,
   "id": "4317aa64-cea4-4cde-9cb7-34cb4af934f6",
   "metadata": {},
   "outputs": [
    {
     "name": "stdout",
     "output_type": "stream",
     "text": [
      "This test will compare whether observed dispatch rates for reported mp events are equal across districts. In interpreting the results, a p-value below 0.05 will be considered statistically significant. In such cases where the p-value is statistically significant, the effect size will be measured and categorized as small, medium, or large.\n",
      "\n",
      "This test results in a p-value of 1.0, which is not statistically significant and fails to reject the null hypothesis that the distribution by district of reported mp events with a reported dispatch date are equal. \n",
      "\n",
      "\n",
      "\n"
     ]
    }
   ],
   "source": [
    "print(mp_info)"
   ]
  },
  {
   "cell_type": "markdown",
   "id": "bfd7e6fd-7c77-4ea5-9237-c952fe8cc7de",
   "metadata": {},
   "source": [
    "# checking distribution"
   ]
  },
  {
   "cell_type": "code",
   "execution_count": 44,
   "id": "8c77c319-53f0-456f-a6f4-175b746488de",
   "metadata": {},
   "outputs": [
    {
     "data": {
      "text/plain": [
       "dispatch_reported  event_type          \n",
       "True               traffic                 3027734\n",
       "                   other                   2354114\n",
       "                   patrol                  2184342\n",
       "                   noinjury_report         1778593\n",
       "                   injury_report            778525\n",
       "                   general                  668437\n",
       "False              noinjury_report          442269\n",
       "                   other                    369115\n",
       "                   shotspotter_reclass?     141364\n",
       "True               shotspotter               97874\n",
       "                   gun                       93657\n",
       "False              injury_report             71461\n",
       "True               mp                        50348\n",
       "                   shotspotter_reclass?      47999\n",
       "                   hunchlab                  28731\n",
       "False              general                    8884\n",
       "                   mp                         7529\n",
       "                   patrol                     4678\n",
       "True               licplate                   2277\n",
       "False              traffic                    1394\n",
       "                   gun                         238\n",
       "                   shotspotter                  15\n",
       "                   licplate                      4\n",
       "Name: count, dtype: int64"
      ]
     },
     "execution_count": 44,
     "metadata": {},
     "output_type": "execute_result"
    }
   ],
   "source": [
    "oemc[['dispatch_reported', 'event_type']].value_counts()"
   ]
  },
  {
   "cell_type": "code",
   "execution_count": 50,
   "id": "954bbe21-204c-4d4b-b2b3-55729bc8b592",
   "metadata": {},
   "outputs": [
    {
     "data": {
      "text/plain": [
       "dispatch_reported\n",
       "True     0.913899\n",
       "False    0.086101\n",
       "Name: proportion, dtype: float64"
      ]
     },
     "execution_count": 50,
     "metadata": {},
     "output_type": "execute_result"
    }
   ],
   "source": [
    "oemc.dispatch_reported.value_counts(normalize=True)"
   ]
  },
  {
   "cell_type": "code",
   "execution_count": 54,
   "id": "f39c22f3-6994-40a3-9f7c-9fcb09a267f5",
   "metadata": {},
   "outputs": [
    {
     "data": {
      "text/plain": [
       "dispatch_reported    0.734125\n",
       "dtype: float64"
      ]
     },
     "execution_count": 54,
     "metadata": {},
     "output_type": "execute_result"
    }
   ],
   "source": [
    "(oemc[['district', 'dispatch_reported']].groupby('district').sum() / oemc[['district', 'dispatch_reported']].groupby('district').count()).mean()"
   ]
  },
  {
   "cell_type": "code",
   "execution_count": 53,
   "id": "d7f7ccbc-01f8-4ea4-bef0-7cf873175822",
   "metadata": {},
   "outputs": [
    {
     "data": {
      "text/html": [
       "<div>\n",
       "<style scoped>\n",
       "    .dataframe tbody tr th:only-of-type {\n",
       "        vertical-align: middle;\n",
       "    }\n",
       "\n",
       "    .dataframe tbody tr th {\n",
       "        vertical-align: top;\n",
       "    }\n",
       "\n",
       "    .dataframe thead th {\n",
       "        text-align: right;\n",
       "    }\n",
       "</style>\n",
       "<table border=\"1\" class=\"dataframe\">\n",
       "  <thead>\n",
       "    <tr style=\"text-align: right;\">\n",
       "      <th></th>\n",
       "      <th>dispatch_reported</th>\n",
       "    </tr>\n",
       "    <tr>\n",
       "      <th>district</th>\n",
       "      <th></th>\n",
       "    </tr>\n",
       "  </thead>\n",
       "  <tbody>\n",
       "    <tr>\n",
       "      <th>001</th>\n",
       "      <td>0.882418</td>\n",
       "    </tr>\n",
       "    <tr>\n",
       "      <th>002</th>\n",
       "      <td>0.939212</td>\n",
       "    </tr>\n",
       "    <tr>\n",
       "      <th>003</th>\n",
       "      <td>0.904822</td>\n",
       "    </tr>\n",
       "    <tr>\n",
       "      <th>004</th>\n",
       "      <td>0.941535</td>\n",
       "    </tr>\n",
       "    <tr>\n",
       "      <th>005</th>\n",
       "      <td>0.909355</td>\n",
       "    </tr>\n",
       "    <tr>\n",
       "      <th>006</th>\n",
       "      <td>0.914524</td>\n",
       "    </tr>\n",
       "    <tr>\n",
       "      <th>007</th>\n",
       "      <td>0.940850</td>\n",
       "    </tr>\n",
       "    <tr>\n",
       "      <th>008</th>\n",
       "      <td>0.905332</td>\n",
       "    </tr>\n",
       "    <tr>\n",
       "      <th>009</th>\n",
       "      <td>0.931765</td>\n",
       "    </tr>\n",
       "    <tr>\n",
       "      <th>010</th>\n",
       "      <td>0.935191</td>\n",
       "    </tr>\n",
       "    <tr>\n",
       "      <th>011</th>\n",
       "      <td>0.946810</td>\n",
       "    </tr>\n",
       "    <tr>\n",
       "      <th>012</th>\n",
       "      <td>0.924839</td>\n",
       "    </tr>\n",
       "    <tr>\n",
       "      <th>013</th>\n",
       "      <td>1.000000</td>\n",
       "    </tr>\n",
       "    <tr>\n",
       "      <th>014</th>\n",
       "      <td>0.904285</td>\n",
       "    </tr>\n",
       "    <tr>\n",
       "      <th>015</th>\n",
       "      <td>0.935672</td>\n",
       "    </tr>\n",
       "    <tr>\n",
       "      <th>016</th>\n",
       "      <td>0.871797</td>\n",
       "    </tr>\n",
       "    <tr>\n",
       "      <th>017</th>\n",
       "      <td>0.924996</td>\n",
       "    </tr>\n",
       "    <tr>\n",
       "      <th>018</th>\n",
       "      <td>0.891964</td>\n",
       "    </tr>\n",
       "    <tr>\n",
       "      <th>019</th>\n",
       "      <td>0.863908</td>\n",
       "    </tr>\n",
       "    <tr>\n",
       "      <th>020</th>\n",
       "      <td>0.915457</td>\n",
       "    </tr>\n",
       "    <tr>\n",
       "      <th>021</th>\n",
       "      <td>0.992647</td>\n",
       "    </tr>\n",
       "    <tr>\n",
       "      <th>022</th>\n",
       "      <td>0.913127</td>\n",
       "    </tr>\n",
       "    <tr>\n",
       "      <th>023</th>\n",
       "      <td>1.000000</td>\n",
       "    </tr>\n",
       "    <tr>\n",
       "      <th>024</th>\n",
       "      <td>0.900115</td>\n",
       "    </tr>\n",
       "    <tr>\n",
       "      <th>025</th>\n",
       "      <td>0.916331</td>\n",
       "    </tr>\n",
       "    <tr>\n",
       "      <th>031</th>\n",
       "      <td>0.221285</td>\n",
       "    </tr>\n",
       "    <tr>\n",
       "      <th>061</th>\n",
       "      <td>0.030303</td>\n",
       "    </tr>\n",
       "    <tr>\n",
       "      <th>070</th>\n",
       "      <td>0.000000</td>\n",
       "    </tr>\n",
       "    <tr>\n",
       "      <th>177</th>\n",
       "      <td>1.000000</td>\n",
       "    </tr>\n",
       "    <tr>\n",
       "      <th>3100</th>\n",
       "      <td>0.845714</td>\n",
       "    </tr>\n",
       "    <tr>\n",
       "      <th>377</th>\n",
       "      <td>1.000000</td>\n",
       "    </tr>\n",
       "    <tr>\n",
       "      <th>4100</th>\n",
       "      <td>0.090909</td>\n",
       "    </tr>\n",
       "    <tr>\n",
       "      <th>477</th>\n",
       "      <td>1.000000</td>\n",
       "    </tr>\n",
       "    <tr>\n",
       "      <th>ARP</th>\n",
       "      <td>0.000000</td>\n",
       "    </tr>\n",
       "    <tr>\n",
       "      <th>ARS</th>\n",
       "      <td>0.000000</td>\n",
       "    </tr>\n",
       "    <tr>\n",
       "      <th>CW1</th>\n",
       "      <td>0.981048</td>\n",
       "    </tr>\n",
       "    <tr>\n",
       "      <th>CW2</th>\n",
       "      <td>0.374210</td>\n",
       "    </tr>\n",
       "    <tr>\n",
       "      <th>CW3</th>\n",
       "      <td>0.014841</td>\n",
       "    </tr>\n",
       "    <tr>\n",
       "      <th>CW4</th>\n",
       "      <td>0.996642</td>\n",
       "    </tr>\n",
       "    <tr>\n",
       "      <th>CW5</th>\n",
       "      <td>0.998905</td>\n",
       "    </tr>\n",
       "    <tr>\n",
       "      <th>CW6</th>\n",
       "      <td>0.992703</td>\n",
       "    </tr>\n",
       "    <tr>\n",
       "      <th>CW7</th>\n",
       "      <td>1.000000</td>\n",
       "    </tr>\n",
       "    <tr>\n",
       "      <th>F02</th>\n",
       "      <td>0.000000</td>\n",
       "    </tr>\n",
       "    <tr>\n",
       "      <th>F09</th>\n",
       "      <td>0.000000</td>\n",
       "    </tr>\n",
       "    <tr>\n",
       "      <th>FD</th>\n",
       "      <td>0.679487</td>\n",
       "    </tr>\n",
       "    <tr>\n",
       "      <th>HD</th>\n",
       "      <td>0.020690</td>\n",
       "    </tr>\n",
       "    <tr>\n",
       "      <th>OC</th>\n",
       "      <td>0.214286</td>\n",
       "    </tr>\n",
       "    <tr>\n",
       "      <th>OEM</th>\n",
       "      <td>0.900000</td>\n",
       "    </tr>\n",
       "    <tr>\n",
       "      <th>ORD</th>\n",
       "      <td>0.935303</td>\n",
       "    </tr>\n",
       "    <tr>\n",
       "      <th>PFDM</th>\n",
       "      <td>0.200000</td>\n",
       "    </tr>\n",
       "    <tr>\n",
       "      <th>PHN</th>\n",
       "      <td>1.000000</td>\n",
       "    </tr>\n",
       "    <tr>\n",
       "      <th>PPAG</th>\n",
       "      <td>1.000000</td>\n",
       "    </tr>\n",
       "    <tr>\n",
       "      <th>PT</th>\n",
       "      <td>0.773585</td>\n",
       "    </tr>\n",
       "    <tr>\n",
       "      <th>SST</th>\n",
       "      <td>1.000000</td>\n",
       "    </tr>\n",
       "    <tr>\n",
       "      <th>TST</th>\n",
       "      <td>1.000000</td>\n",
       "    </tr>\n",
       "  </tbody>\n",
       "</table>\n",
       "</div>"
      ],
      "text/plain": [
       "          dispatch_reported\n",
       "district                   \n",
       "001                0.882418\n",
       "002                0.939212\n",
       "003                0.904822\n",
       "004                0.941535\n",
       "005                0.909355\n",
       "006                0.914524\n",
       "007                0.940850\n",
       "008                0.905332\n",
       "009                0.931765\n",
       "010                0.935191\n",
       "011                0.946810\n",
       "012                0.924839\n",
       "013                1.000000\n",
       "014                0.904285\n",
       "015                0.935672\n",
       "016                0.871797\n",
       "017                0.924996\n",
       "018                0.891964\n",
       "019                0.863908\n",
       "020                0.915457\n",
       "021                0.992647\n",
       "022                0.913127\n",
       "023                1.000000\n",
       "024                0.900115\n",
       "025                0.916331\n",
       "031                0.221285\n",
       "061                0.030303\n",
       "070                0.000000\n",
       "177                1.000000\n",
       "3100               0.845714\n",
       "377                1.000000\n",
       "4100               0.090909\n",
       "477                1.000000\n",
       "ARP                0.000000\n",
       "ARS                0.000000\n",
       "CW1                0.981048\n",
       "CW2                0.374210\n",
       "CW3                0.014841\n",
       "CW4                0.996642\n",
       "CW5                0.998905\n",
       "CW6                0.992703\n",
       "CW7                1.000000\n",
       "F02                0.000000\n",
       "F09                0.000000\n",
       "FD                 0.679487\n",
       "HD                 0.020690\n",
       "OC                 0.214286\n",
       "OEM                0.900000\n",
       "ORD                0.935303\n",
       "PFDM               0.200000\n",
       "PHN                1.000000\n",
       "PPAG               1.000000\n",
       "PT                 0.773585\n",
       "SST                1.000000\n",
       "TST                1.000000"
      ]
     },
     "execution_count": 53,
     "metadata": {},
     "output_type": "execute_result"
    }
   ],
   "source": [
    "oemc[['district', 'dispatch_reported']].groupby('district').sum() / oemc[['district', 'dispatch_reported']].groupby('district').count()"
   ]
  },
  {
   "cell_type": "code",
   "execution_count": 46,
   "id": "8338d8eb-2596-4252-9754-a17346a95c39",
   "metadata": {},
   "outputs": [
    {
     "data": {
      "text/plain": [
       "190         True\n",
       "224         True\n",
       "241         True\n",
       "255         True\n",
       "259         True\n",
       "            ... \n",
       "12159525    True\n",
       "12159528    True\n",
       "12159530    True\n",
       "12159547    True\n",
       "12159571    True\n",
       "Name: dispatch_reported, Length: 97889, dtype: bool"
      ]
     },
     "execution_count": 46,
     "metadata": {},
     "output_type": "execute_result"
    }
   ],
   "source": [
    "oemc.loc[oemc.event_type == 'shotspotter', 'dispatch_reported']"
   ]
  },
  {
   "cell_type": "code",
   "execution_count": null,
   "id": "dc549e24-c568-4368-8283-9d9cd094182c",
   "metadata": {},
   "outputs": [],
   "source": []
  }
 ],
 "metadata": {
  "kernelspec": {
   "display_name": "Python 3 (ipykernel)",
   "language": "python",
   "name": "python3"
  },
  "language_info": {
   "codemirror_mode": {
    "name": "ipython",
    "version": 3
   },
   "file_extension": ".py",
   "mimetype": "text/x-python",
   "name": "python",
   "nbconvert_exporter": "python",
   "pygments_lexer": "ipython3",
   "version": "3.13.1"
  }
 },
 "nbformat": 4,
 "nbformat_minor": 5
}
